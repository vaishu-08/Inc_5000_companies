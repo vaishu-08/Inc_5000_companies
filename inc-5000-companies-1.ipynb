{
 "cells": [
  {
   "cell_type": "code",
   "execution_count": 1,
   "id": "c3bdd473",
   "metadata": {
    "_cell_guid": "b1076dfc-b9ad-4769-8c92-a6c4dae69d19",
    "_uuid": "8f2839f25d086af736a60e9eeb907d3b93b6e0e5",
    "execution": {
     "iopub.execute_input": "2025-06-13T08:15:17.592197Z",
     "iopub.status.busy": "2025-06-13T08:15:17.591994Z",
     "iopub.status.idle": "2025-06-13T08:15:19.688570Z",
     "shell.execute_reply": "2025-06-13T08:15:19.687823Z"
    },
    "papermill": {
     "duration": 2.10821,
     "end_time": "2025-06-13T08:15:19.689688",
     "exception": false,
     "start_time": "2025-06-13T08:15:17.581478",
     "status": "completed"
    },
    "tags": []
   },
   "outputs": [
    {
     "name": "stdout",
     "output_type": "stream",
     "text": [
      "/kaggle/input/inc-5000-companies/INC 5000 Companies 2019.csv\n"
     ]
    }
   ],
   "source": [
    "# This Python 3 environment comes with many helpful analytics libraries installed\n",
    "# It is defined by the kaggle/python Docker image: https://github.com/kaggle/docker-python\n",
    "# For example, here's several helpful packages to load\n",
    "\n",
    "import numpy as np # linear algebra\n",
    "import pandas as pd # data processing, CSV file I/O (e.g. pd.read_csv)\n",
    "\n",
    "# Input data files are available in the read-only \"../input/\" directory\n",
    "# For example, running this (by clicking run or pressing Shift+Enter) will list all files under the input directory\n",
    "\n",
    "import os\n",
    "for dirname, _, filenames in os.walk('/kaggle/input'):\n",
    "    for filename in filenames:\n",
    "        print(os.path.join(dirname, filename))\n",
    "\n",
    "# You can write up to 20GB to the current directory (/kaggle/working/) that gets preserved as output when you create a version using \"Save & Run All\" \n",
    "# You can also write temporary files to /kaggle/temp/, but they won't be saved outside of the current session"
   ]
  },
  {
   "cell_type": "code",
   "execution_count": 2,
   "id": "5ab95f01",
   "metadata": {
    "execution": {
     "iopub.execute_input": "2025-06-13T08:15:19.708921Z",
     "iopub.status.busy": "2025-06-13T08:15:19.708269Z",
     "iopub.status.idle": "2025-06-13T08:15:19.776580Z",
     "shell.execute_reply": "2025-06-13T08:15:19.775789Z"
    },
    "papermill": {
     "duration": 0.078986,
     "end_time": "2025-06-13T08:15:19.778007",
     "exception": false,
     "start_time": "2025-06-13T08:15:19.699021",
     "status": "completed"
    },
    "tags": []
   },
   "outputs": [],
   "source": [
    "df =pd.read_csv(\"/kaggle/input/inc-5000-companies/INC 5000 Companies 2019.csv\")"
   ]
  },
  {
   "cell_type": "code",
   "execution_count": 3,
   "id": "85e268d1",
   "metadata": {
    "execution": {
     "iopub.execute_input": "2025-06-13T08:15:19.803273Z",
     "iopub.status.busy": "2025-06-13T08:15:19.803044Z",
     "iopub.status.idle": "2025-06-13T08:15:23.434028Z",
     "shell.execute_reply": "2025-06-13T08:15:23.433417Z"
    },
    "papermill": {
     "duration": 3.643769,
     "end_time": "2025-06-13T08:15:23.435331",
     "exception": false,
     "start_time": "2025-06-13T08:15:19.791562",
     "status": "completed"
    },
    "tags": []
   },
   "outputs": [],
   "source": [
    "import numpy as np\n",
    "import pandas as pd\n",
    "import matplotlib.pyplot as plt\n",
    "import seaborn as sns\n",
    "import plotly.express as px\n",
    "import datetime as dt"
   ]
  },
  {
   "cell_type": "markdown",
   "id": "62f48deb",
   "metadata": {
    "papermill": {
     "duration": 0.009006,
     "end_time": "2025-06-13T08:15:23.453723",
     "exception": false,
     "start_time": "2025-06-13T08:15:23.444717",
     "status": "completed"
    },
    "tags": []
   },
   "source": [
    "### Data understanding"
   ]
  },
  {
   "cell_type": "code",
   "execution_count": 4,
   "id": "aae5e3de",
   "metadata": {
    "execution": {
     "iopub.execute_input": "2025-06-13T08:15:23.471981Z",
     "iopub.status.busy": "2025-06-13T08:15:23.471443Z",
     "iopub.status.idle": "2025-06-13T08:15:23.496808Z",
     "shell.execute_reply": "2025-06-13T08:15:23.496284Z"
    },
    "papermill": {
     "duration": 0.035433,
     "end_time": "2025-06-13T08:15:23.497799",
     "exception": false,
     "start_time": "2025-06-13T08:15:23.462366",
     "status": "completed"
    },
    "tags": []
   },
   "outputs": [
    {
     "data": {
      "text/html": [
       "<div>\n",
       "<style scoped>\n",
       "    .dataframe tbody tr th:only-of-type {\n",
       "        vertical-align: middle;\n",
       "    }\n",
       "\n",
       "    .dataframe tbody tr th {\n",
       "        vertical-align: top;\n",
       "    }\n",
       "\n",
       "    .dataframe thead th {\n",
       "        text-align: right;\n",
       "    }\n",
       "</style>\n",
       "<table border=\"1\" class=\"dataframe\">\n",
       "  <thead>\n",
       "    <tr style=\"text-align: right;\">\n",
       "      <th></th>\n",
       "      <th>rank</th>\n",
       "      <th>profile</th>\n",
       "      <th>name</th>\n",
       "      <th>url</th>\n",
       "      <th>state</th>\n",
       "      <th>revenue</th>\n",
       "      <th>growth_%</th>\n",
       "      <th>industry</th>\n",
       "      <th>workers</th>\n",
       "      <th>previous_workers</th>\n",
       "      <th>founded</th>\n",
       "      <th>yrs_on_list</th>\n",
       "      <th>metro</th>\n",
       "      <th>city</th>\n",
       "    </tr>\n",
       "  </thead>\n",
       "  <tbody>\n",
       "    <tr>\n",
       "      <th>0</th>\n",
       "      <td>1</td>\n",
       "      <td>https://www.inc.com/profile/freestar</td>\n",
       "      <td>Freestar</td>\n",
       "      <td>http://freestar.com</td>\n",
       "      <td>AZ</td>\n",
       "      <td>36.9 Million</td>\n",
       "      <td>36680.3882</td>\n",
       "      <td>Advertising &amp; Marketing</td>\n",
       "      <td>40.0</td>\n",
       "      <td>5</td>\n",
       "      <td>2015</td>\n",
       "      <td>1</td>\n",
       "      <td>Phoenix</td>\n",
       "      <td>Phoenix</td>\n",
       "    </tr>\n",
       "    <tr>\n",
       "      <th>1</th>\n",
       "      <td>2</td>\n",
       "      <td>https://www.inc.com/profile/freightwise</td>\n",
       "      <td>FreightWise</td>\n",
       "      <td>http://freightwisellc.com</td>\n",
       "      <td>TN</td>\n",
       "      <td>33.6 Million</td>\n",
       "      <td>30547.9317</td>\n",
       "      <td>Logistics &amp; Transportation</td>\n",
       "      <td>39.0</td>\n",
       "      <td>8</td>\n",
       "      <td>2015</td>\n",
       "      <td>1</td>\n",
       "      <td>Nashville</td>\n",
       "      <td>Brentwood</td>\n",
       "    </tr>\n",
       "    <tr>\n",
       "      <th>2</th>\n",
       "      <td>3</td>\n",
       "      <td>https://www.inc.com/profile/ceces-veggie</td>\n",
       "      <td>Cece's Veggie Co.</td>\n",
       "      <td>http://cecesveggieco.com</td>\n",
       "      <td>TX</td>\n",
       "      <td>24.9 Million</td>\n",
       "      <td>23880.4852</td>\n",
       "      <td>Food &amp; Beverage</td>\n",
       "      <td>190.0</td>\n",
       "      <td>10</td>\n",
       "      <td>2015</td>\n",
       "      <td>1</td>\n",
       "      <td>Austin</td>\n",
       "      <td>Austin</td>\n",
       "    </tr>\n",
       "    <tr>\n",
       "      <th>3</th>\n",
       "      <td>4</td>\n",
       "      <td>https://www.inc.com/profile/ladyboss</td>\n",
       "      <td>LadyBoss</td>\n",
       "      <td>http://ladyboss.com</td>\n",
       "      <td>NM</td>\n",
       "      <td>32.4 Million</td>\n",
       "      <td>21849.8925</td>\n",
       "      <td>Consumer Products &amp; Services</td>\n",
       "      <td>57.0</td>\n",
       "      <td>2</td>\n",
       "      <td>2014</td>\n",
       "      <td>1</td>\n",
       "      <td>NaN</td>\n",
       "      <td>Albuquerque</td>\n",
       "    </tr>\n",
       "    <tr>\n",
       "      <th>4</th>\n",
       "      <td>5</td>\n",
       "      <td>https://www.inc.com/profile/perpay</td>\n",
       "      <td>Perpay</td>\n",
       "      <td>http://perpay.com</td>\n",
       "      <td>PA</td>\n",
       "      <td>22.5 Million</td>\n",
       "      <td>18166.4070</td>\n",
       "      <td>Retail</td>\n",
       "      <td>25.0</td>\n",
       "      <td>6</td>\n",
       "      <td>2014</td>\n",
       "      <td>1</td>\n",
       "      <td>Philadelphia</td>\n",
       "      <td>Philadelphia</td>\n",
       "    </tr>\n",
       "  </tbody>\n",
       "</table>\n",
       "</div>"
      ],
      "text/plain": [
       "   rank                                   profile               name  \\\n",
       "0     1      https://www.inc.com/profile/freestar           Freestar   \n",
       "1     2   https://www.inc.com/profile/freightwise        FreightWise   \n",
       "2     3  https://www.inc.com/profile/ceces-veggie  Cece's Veggie Co.   \n",
       "3     4      https://www.inc.com/profile/ladyboss           LadyBoss   \n",
       "4     5        https://www.inc.com/profile/perpay             Perpay   \n",
       "\n",
       "                         url state       revenue    growth_%  \\\n",
       "0        http://freestar.com    AZ  36.9 Million  36680.3882   \n",
       "1  http://freightwisellc.com    TN  33.6 Million  30547.9317   \n",
       "2   http://cecesveggieco.com    TX  24.9 Million  23880.4852   \n",
       "3        http://ladyboss.com    NM  32.4 Million  21849.8925   \n",
       "4          http://perpay.com    PA  22.5 Million  18166.4070   \n",
       "\n",
       "                       industry  workers  previous_workers  founded  \\\n",
       "0       Advertising & Marketing     40.0                 5     2015   \n",
       "1    Logistics & Transportation     39.0                 8     2015   \n",
       "2               Food & Beverage    190.0                10     2015   \n",
       "3  Consumer Products & Services     57.0                 2     2014   \n",
       "4                        Retail     25.0                 6     2014   \n",
       "\n",
       "   yrs_on_list         metro          city  \n",
       "0            1       Phoenix       Phoenix  \n",
       "1            1     Nashville     Brentwood  \n",
       "2            1        Austin        Austin  \n",
       "3            1           NaN   Albuquerque  \n",
       "4            1  Philadelphia  Philadelphia  "
      ]
     },
     "execution_count": 4,
     "metadata": {},
     "output_type": "execute_result"
    }
   ],
   "source": [
    "df.head()"
   ]
  },
  {
   "cell_type": "markdown",
   "id": "8cbc17a7",
   "metadata": {
    "papermill": {
     "duration": 0.008638,
     "end_time": "2025-06-13T08:15:23.515422",
     "exception": false,
     "start_time": "2025-06-13T08:15:23.506784",
     "status": "completed"
    },
    "tags": []
   },
   "source": [
    "# Information about dataset\n",
    "\n"
   ]
  },
  {
   "cell_type": "code",
   "execution_count": 5,
   "id": "177bfdac",
   "metadata": {
    "execution": {
     "iopub.execute_input": "2025-06-13T08:15:23.533389Z",
     "iopub.status.busy": "2025-06-13T08:15:23.533208Z",
     "iopub.status.idle": "2025-06-13T08:15:23.562008Z",
     "shell.execute_reply": "2025-06-13T08:15:23.561170Z"
    },
    "papermill": {
     "duration": 0.038965,
     "end_time": "2025-06-13T08:15:23.563000",
     "exception": false,
     "start_time": "2025-06-13T08:15:23.524035",
     "status": "completed"
    },
    "tags": []
   },
   "outputs": [
    {
     "name": "stdout",
     "output_type": "stream",
     "text": [
      "<class 'pandas.core.frame.DataFrame'>\n",
      "RangeIndex: 5012 entries, 0 to 5011\n",
      "Data columns (total 14 columns):\n",
      " #   Column            Non-Null Count  Dtype  \n",
      "---  ------            --------------  -----  \n",
      " 0   rank              5012 non-null   int64  \n",
      " 1   profile           5012 non-null   object \n",
      " 2   name              5012 non-null   object \n",
      " 3   url               5012 non-null   object \n",
      " 4   state             5012 non-null   object \n",
      " 5   revenue           5012 non-null   object \n",
      " 6   growth_%          5012 non-null   float64\n",
      " 7   industry          5012 non-null   object \n",
      " 8   workers           5011 non-null   float64\n",
      " 9   previous_workers  5012 non-null   int64  \n",
      " 10  founded           5012 non-null   int64  \n",
      " 11  yrs_on_list       5012 non-null   int64  \n",
      " 12  metro             4199 non-null   object \n",
      " 13  city              5012 non-null   object \n",
      "dtypes: float64(2), int64(4), object(8)\n",
      "memory usage: 548.3+ KB\n"
     ]
    }
   ],
   "source": [
    "df.info()"
   ]
  },
  {
   "cell_type": "code",
   "execution_count": 6,
   "id": "6e02c966",
   "metadata": {
    "execution": {
     "iopub.execute_input": "2025-06-13T08:15:23.588007Z",
     "iopub.status.busy": "2025-06-13T08:15:23.587440Z",
     "iopub.status.idle": "2025-06-13T08:15:23.620119Z",
     "shell.execute_reply": "2025-06-13T08:15:23.619344Z"
    },
    "papermill": {
     "duration": 0.048555,
     "end_time": "2025-06-13T08:15:23.621560",
     "exception": false,
     "start_time": "2025-06-13T08:15:23.573005",
     "status": "completed"
    },
    "tags": []
   },
   "outputs": [
    {
     "data": {
      "text/html": [
       "<div>\n",
       "<style scoped>\n",
       "    .dataframe tbody tr th:only-of-type {\n",
       "        vertical-align: middle;\n",
       "    }\n",
       "\n",
       "    .dataframe tbody tr th {\n",
       "        vertical-align: top;\n",
       "    }\n",
       "\n",
       "    .dataframe thead th {\n",
       "        text-align: right;\n",
       "    }\n",
       "</style>\n",
       "<table border=\"1\" class=\"dataframe\">\n",
       "  <thead>\n",
       "    <tr style=\"text-align: right;\">\n",
       "      <th></th>\n",
       "      <th>rank</th>\n",
       "      <th>growth_%</th>\n",
       "      <th>workers</th>\n",
       "      <th>previous_workers</th>\n",
       "      <th>founded</th>\n",
       "      <th>yrs_on_list</th>\n",
       "    </tr>\n",
       "  </thead>\n",
       "  <tbody>\n",
       "    <tr>\n",
       "      <th>count</th>\n",
       "      <td>5012.000000</td>\n",
       "      <td>5012.000000</td>\n",
       "      <td>5011.000000</td>\n",
       "      <td>5012.000000</td>\n",
       "      <td>5012.000000</td>\n",
       "      <td>5012.000000</td>\n",
       "    </tr>\n",
       "    <tr>\n",
       "      <th>mean</th>\n",
       "      <td>2499.628292</td>\n",
       "      <td>454.680059</td>\n",
       "      <td>242.783077</td>\n",
       "      <td>111.687151</td>\n",
       "      <td>2005.445531</td>\n",
       "      <td>2.813647</td>\n",
       "    </tr>\n",
       "    <tr>\n",
       "      <th>std</th>\n",
       "      <td>1443.232009</td>\n",
       "      <td>1284.288709</td>\n",
       "      <td>2800.165478</td>\n",
       "      <td>1073.878175</td>\n",
       "      <td>30.310632</td>\n",
       "      <td>2.265986</td>\n",
       "    </tr>\n",
       "    <tr>\n",
       "      <th>min</th>\n",
       "      <td>1.000000</td>\n",
       "      <td>52.169100</td>\n",
       "      <td>0.000000</td>\n",
       "      <td>1.000000</td>\n",
       "      <td>0.000000</td>\n",
       "      <td>1.000000</td>\n",
       "    </tr>\n",
       "    <tr>\n",
       "      <th>25%</th>\n",
       "      <td>1249.750000</td>\n",
       "      <td>90.562500</td>\n",
       "      <td>22.000000</td>\n",
       "      <td>8.000000</td>\n",
       "      <td>2003.000000</td>\n",
       "      <td>1.000000</td>\n",
       "    </tr>\n",
       "    <tr>\n",
       "      <th>50%</th>\n",
       "      <td>2497.500000</td>\n",
       "      <td>157.530650</td>\n",
       "      <td>48.000000</td>\n",
       "      <td>20.000000</td>\n",
       "      <td>2009.000000</td>\n",
       "      <td>2.000000</td>\n",
       "    </tr>\n",
       "    <tr>\n",
       "      <th>75%</th>\n",
       "      <td>3749.250000</td>\n",
       "      <td>330.427250</td>\n",
       "      <td>116.000000</td>\n",
       "      <td>50.000000</td>\n",
       "      <td>2012.000000</td>\n",
       "      <td>4.000000</td>\n",
       "    </tr>\n",
       "    <tr>\n",
       "      <th>max</th>\n",
       "      <td>5000.000000</td>\n",
       "      <td>36680.388200</td>\n",
       "      <td>155000.000000</td>\n",
       "      <td>53000.000000</td>\n",
       "      <td>2016.000000</td>\n",
       "      <td>14.000000</td>\n",
       "    </tr>\n",
       "  </tbody>\n",
       "</table>\n",
       "</div>"
      ],
      "text/plain": [
       "              rank      growth_%        workers  previous_workers  \\\n",
       "count  5012.000000   5012.000000    5011.000000       5012.000000   \n",
       "mean   2499.628292    454.680059     242.783077        111.687151   \n",
       "std    1443.232009   1284.288709    2800.165478       1073.878175   \n",
       "min       1.000000     52.169100       0.000000          1.000000   \n",
       "25%    1249.750000     90.562500      22.000000          8.000000   \n",
       "50%    2497.500000    157.530650      48.000000         20.000000   \n",
       "75%    3749.250000    330.427250     116.000000         50.000000   \n",
       "max    5000.000000  36680.388200  155000.000000      53000.000000   \n",
       "\n",
       "           founded  yrs_on_list  \n",
       "count  5012.000000  5012.000000  \n",
       "mean   2005.445531     2.813647  \n",
       "std      30.310632     2.265986  \n",
       "min       0.000000     1.000000  \n",
       "25%    2003.000000     1.000000  \n",
       "50%    2009.000000     2.000000  \n",
       "75%    2012.000000     4.000000  \n",
       "max    2016.000000    14.000000  "
      ]
     },
     "execution_count": 6,
     "metadata": {},
     "output_type": "execute_result"
    }
   ],
   "source": [
    "df.describe()"
   ]
  },
  {
   "cell_type": "code",
   "execution_count": 7,
   "id": "11bf692e",
   "metadata": {
    "execution": {
     "iopub.execute_input": "2025-06-13T08:15:23.654177Z",
     "iopub.status.busy": "2025-06-13T08:15:23.653628Z",
     "iopub.status.idle": "2025-06-13T08:15:23.676263Z",
     "shell.execute_reply": "2025-06-13T08:15:23.675564Z"
    },
    "papermill": {
     "duration": 0.039333,
     "end_time": "2025-06-13T08:15:23.677452",
     "exception": false,
     "start_time": "2025-06-13T08:15:23.638119",
     "status": "completed"
    },
    "tags": []
   },
   "outputs": [
    {
     "data": {
      "text/html": [
       "<div>\n",
       "<style scoped>\n",
       "    .dataframe tbody tr th:only-of-type {\n",
       "        vertical-align: middle;\n",
       "    }\n",
       "\n",
       "    .dataframe tbody tr th {\n",
       "        vertical-align: top;\n",
       "    }\n",
       "\n",
       "    .dataframe thead th {\n",
       "        text-align: right;\n",
       "    }\n",
       "</style>\n",
       "<table border=\"1\" class=\"dataframe\">\n",
       "  <thead>\n",
       "    <tr style=\"text-align: right;\">\n",
       "      <th></th>\n",
       "      <th>rank</th>\n",
       "      <th>profile</th>\n",
       "      <th>name</th>\n",
       "      <th>url</th>\n",
       "      <th>state</th>\n",
       "      <th>revenue</th>\n",
       "      <th>growth_%</th>\n",
       "      <th>industry</th>\n",
       "      <th>workers</th>\n",
       "      <th>previous_workers</th>\n",
       "      <th>founded</th>\n",
       "      <th>yrs_on_list</th>\n",
       "      <th>metro</th>\n",
       "      <th>city</th>\n",
       "    </tr>\n",
       "  </thead>\n",
       "  <tbody>\n",
       "    <tr>\n",
       "      <th>0</th>\n",
       "      <td>False</td>\n",
       "      <td>False</td>\n",
       "      <td>False</td>\n",
       "      <td>False</td>\n",
       "      <td>False</td>\n",
       "      <td>False</td>\n",
       "      <td>False</td>\n",
       "      <td>False</td>\n",
       "      <td>False</td>\n",
       "      <td>False</td>\n",
       "      <td>False</td>\n",
       "      <td>False</td>\n",
       "      <td>False</td>\n",
       "      <td>False</td>\n",
       "    </tr>\n",
       "    <tr>\n",
       "      <th>1</th>\n",
       "      <td>False</td>\n",
       "      <td>False</td>\n",
       "      <td>False</td>\n",
       "      <td>False</td>\n",
       "      <td>False</td>\n",
       "      <td>False</td>\n",
       "      <td>False</td>\n",
       "      <td>False</td>\n",
       "      <td>False</td>\n",
       "      <td>False</td>\n",
       "      <td>False</td>\n",
       "      <td>False</td>\n",
       "      <td>False</td>\n",
       "      <td>False</td>\n",
       "    </tr>\n",
       "    <tr>\n",
       "      <th>2</th>\n",
       "      <td>False</td>\n",
       "      <td>False</td>\n",
       "      <td>False</td>\n",
       "      <td>False</td>\n",
       "      <td>False</td>\n",
       "      <td>False</td>\n",
       "      <td>False</td>\n",
       "      <td>False</td>\n",
       "      <td>False</td>\n",
       "      <td>False</td>\n",
       "      <td>False</td>\n",
       "      <td>False</td>\n",
       "      <td>False</td>\n",
       "      <td>False</td>\n",
       "    </tr>\n",
       "    <tr>\n",
       "      <th>3</th>\n",
       "      <td>False</td>\n",
       "      <td>False</td>\n",
       "      <td>False</td>\n",
       "      <td>False</td>\n",
       "      <td>False</td>\n",
       "      <td>False</td>\n",
       "      <td>False</td>\n",
       "      <td>False</td>\n",
       "      <td>False</td>\n",
       "      <td>False</td>\n",
       "      <td>False</td>\n",
       "      <td>False</td>\n",
       "      <td>True</td>\n",
       "      <td>False</td>\n",
       "    </tr>\n",
       "    <tr>\n",
       "      <th>4</th>\n",
       "      <td>False</td>\n",
       "      <td>False</td>\n",
       "      <td>False</td>\n",
       "      <td>False</td>\n",
       "      <td>False</td>\n",
       "      <td>False</td>\n",
       "      <td>False</td>\n",
       "      <td>False</td>\n",
       "      <td>False</td>\n",
       "      <td>False</td>\n",
       "      <td>False</td>\n",
       "      <td>False</td>\n",
       "      <td>False</td>\n",
       "      <td>False</td>\n",
       "    </tr>\n",
       "    <tr>\n",
       "      <th>...</th>\n",
       "      <td>...</td>\n",
       "      <td>...</td>\n",
       "      <td>...</td>\n",
       "      <td>...</td>\n",
       "      <td>...</td>\n",
       "      <td>...</td>\n",
       "      <td>...</td>\n",
       "      <td>...</td>\n",
       "      <td>...</td>\n",
       "      <td>...</td>\n",
       "      <td>...</td>\n",
       "      <td>...</td>\n",
       "      <td>...</td>\n",
       "      <td>...</td>\n",
       "    </tr>\n",
       "    <tr>\n",
       "      <th>5007</th>\n",
       "      <td>False</td>\n",
       "      <td>False</td>\n",
       "      <td>False</td>\n",
       "      <td>False</td>\n",
       "      <td>False</td>\n",
       "      <td>False</td>\n",
       "      <td>False</td>\n",
       "      <td>False</td>\n",
       "      <td>False</td>\n",
       "      <td>False</td>\n",
       "      <td>False</td>\n",
       "      <td>False</td>\n",
       "      <td>False</td>\n",
       "      <td>False</td>\n",
       "    </tr>\n",
       "    <tr>\n",
       "      <th>5008</th>\n",
       "      <td>False</td>\n",
       "      <td>False</td>\n",
       "      <td>False</td>\n",
       "      <td>False</td>\n",
       "      <td>False</td>\n",
       "      <td>False</td>\n",
       "      <td>False</td>\n",
       "      <td>False</td>\n",
       "      <td>False</td>\n",
       "      <td>False</td>\n",
       "      <td>False</td>\n",
       "      <td>False</td>\n",
       "      <td>False</td>\n",
       "      <td>False</td>\n",
       "    </tr>\n",
       "    <tr>\n",
       "      <th>5009</th>\n",
       "      <td>False</td>\n",
       "      <td>False</td>\n",
       "      <td>False</td>\n",
       "      <td>False</td>\n",
       "      <td>False</td>\n",
       "      <td>False</td>\n",
       "      <td>False</td>\n",
       "      <td>False</td>\n",
       "      <td>False</td>\n",
       "      <td>False</td>\n",
       "      <td>False</td>\n",
       "      <td>False</td>\n",
       "      <td>True</td>\n",
       "      <td>False</td>\n",
       "    </tr>\n",
       "    <tr>\n",
       "      <th>5010</th>\n",
       "      <td>False</td>\n",
       "      <td>False</td>\n",
       "      <td>False</td>\n",
       "      <td>False</td>\n",
       "      <td>False</td>\n",
       "      <td>False</td>\n",
       "      <td>False</td>\n",
       "      <td>False</td>\n",
       "      <td>False</td>\n",
       "      <td>False</td>\n",
       "      <td>False</td>\n",
       "      <td>False</td>\n",
       "      <td>False</td>\n",
       "      <td>False</td>\n",
       "    </tr>\n",
       "    <tr>\n",
       "      <th>5011</th>\n",
       "      <td>False</td>\n",
       "      <td>False</td>\n",
       "      <td>False</td>\n",
       "      <td>False</td>\n",
       "      <td>False</td>\n",
       "      <td>False</td>\n",
       "      <td>False</td>\n",
       "      <td>False</td>\n",
       "      <td>False</td>\n",
       "      <td>False</td>\n",
       "      <td>False</td>\n",
       "      <td>False</td>\n",
       "      <td>True</td>\n",
       "      <td>False</td>\n",
       "    </tr>\n",
       "  </tbody>\n",
       "</table>\n",
       "<p>5012 rows × 14 columns</p>\n",
       "</div>"
      ],
      "text/plain": [
       "       rank  profile   name    url  state  revenue  growth_%  industry  \\\n",
       "0     False    False  False  False  False    False     False     False   \n",
       "1     False    False  False  False  False    False     False     False   \n",
       "2     False    False  False  False  False    False     False     False   \n",
       "3     False    False  False  False  False    False     False     False   \n",
       "4     False    False  False  False  False    False     False     False   \n",
       "...     ...      ...    ...    ...    ...      ...       ...       ...   \n",
       "5007  False    False  False  False  False    False     False     False   \n",
       "5008  False    False  False  False  False    False     False     False   \n",
       "5009  False    False  False  False  False    False     False     False   \n",
       "5010  False    False  False  False  False    False     False     False   \n",
       "5011  False    False  False  False  False    False     False     False   \n",
       "\n",
       "      workers  previous_workers  founded  yrs_on_list  metro   city  \n",
       "0       False             False    False        False  False  False  \n",
       "1       False             False    False        False  False  False  \n",
       "2       False             False    False        False  False  False  \n",
       "3       False             False    False        False   True  False  \n",
       "4       False             False    False        False  False  False  \n",
       "...       ...               ...      ...          ...    ...    ...  \n",
       "5007    False             False    False        False  False  False  \n",
       "5008    False             False    False        False  False  False  \n",
       "5009    False             False    False        False   True  False  \n",
       "5010    False             False    False        False  False  False  \n",
       "5011    False             False    False        False   True  False  \n",
       "\n",
       "[5012 rows x 14 columns]"
      ]
     },
     "execution_count": 7,
     "metadata": {},
     "output_type": "execute_result"
    }
   ],
   "source": [
    "df.isna()"
   ]
  },
  {
   "cell_type": "code",
   "execution_count": 8,
   "id": "95796e79",
   "metadata": {
    "execution": {
     "iopub.execute_input": "2025-06-13T08:15:23.697529Z",
     "iopub.status.busy": "2025-06-13T08:15:23.696996Z",
     "iopub.status.idle": "2025-06-13T08:15:23.706729Z",
     "shell.execute_reply": "2025-06-13T08:15:23.706195Z"
    },
    "papermill": {
     "duration": 0.020744,
     "end_time": "2025-06-13T08:15:23.707784",
     "exception": false,
     "start_time": "2025-06-13T08:15:23.687040",
     "status": "completed"
    },
    "tags": []
   },
   "outputs": [
    {
     "data": {
      "text/plain": [
       "rank                  0\n",
       "profile               0\n",
       "name                  0\n",
       "url                   0\n",
       "state                 0\n",
       "revenue               0\n",
       "growth_%              0\n",
       "industry              0\n",
       "workers               1\n",
       "previous_workers      0\n",
       "founded               0\n",
       "yrs_on_list           0\n",
       "metro               813\n",
       "city                  0\n",
       "dtype: int64"
      ]
     },
     "execution_count": 8,
     "metadata": {},
     "output_type": "execute_result"
    }
   ],
   "source": [
    "df.isna().sum()"
   ]
  },
  {
   "cell_type": "code",
   "execution_count": 9,
   "id": "95a02537",
   "metadata": {
    "execution": {
     "iopub.execute_input": "2025-06-13T08:15:23.729527Z",
     "iopub.status.busy": "2025-06-13T08:15:23.729077Z",
     "iopub.status.idle": "2025-06-13T08:15:23.734556Z",
     "shell.execute_reply": "2025-06-13T08:15:23.733478Z"
    },
    "papermill": {
     "duration": 0.020934,
     "end_time": "2025-06-13T08:15:23.738346",
     "exception": false,
     "start_time": "2025-06-13T08:15:23.717412",
     "status": "completed"
    },
    "tags": []
   },
   "outputs": [
    {
     "data": {
      "text/plain": [
       "51"
      ]
     },
     "execution_count": 9,
     "metadata": {},
     "output_type": "execute_result"
    }
   ],
   "source": [
    "df['state'].nunique()"
   ]
  },
  {
   "cell_type": "code",
   "execution_count": 10,
   "id": "3c07722c",
   "metadata": {
    "execution": {
     "iopub.execute_input": "2025-06-13T08:15:23.772287Z",
     "iopub.status.busy": "2025-06-13T08:15:23.772079Z",
     "iopub.status.idle": "2025-06-13T08:15:23.777221Z",
     "shell.execute_reply": "2025-06-13T08:15:23.776507Z"
    },
    "papermill": {
     "duration": 0.024031,
     "end_time": "2025-06-13T08:15:23.778629",
     "exception": false,
     "start_time": "2025-06-13T08:15:23.754598",
     "status": "completed"
    },
    "tags": []
   },
   "outputs": [
    {
     "data": {
      "text/plain": [
       "0          Phoenix\n",
       "1        Nashville\n",
       "2           Austin\n",
       "3              NaN\n",
       "4     Philadelphia\n",
       "5            Miami\n",
       "6    New York City\n",
       "7     Richmond, VA\n",
       "8        Cleveland\n",
       "9      Los Angeles\n",
       "Name: metro, dtype: object"
      ]
     },
     "execution_count": 10,
     "metadata": {},
     "output_type": "execute_result"
    }
   ],
   "source": [
    "df[\"metro\"].head(10)\n"
   ]
  },
  {
   "cell_type": "code",
   "execution_count": 11,
   "id": "c69775a3",
   "metadata": {
    "execution": {
     "iopub.execute_input": "2025-06-13T08:15:23.803819Z",
     "iopub.status.busy": "2025-06-13T08:15:23.803625Z",
     "iopub.status.idle": "2025-06-13T08:15:23.808454Z",
     "shell.execute_reply": "2025-06-13T08:15:23.807647Z"
    },
    "papermill": {
     "duration": 0.016138,
     "end_time": "2025-06-13T08:15:23.809662",
     "exception": false,
     "start_time": "2025-06-13T08:15:23.793524",
     "status": "completed"
    },
    "tags": []
   },
   "outputs": [
    {
     "name": "stdout",
     "output_type": "stream",
     "text": [
      "Missing metro rows: 813 (16.22%)\n"
     ]
    }
   ],
   "source": [
    "missing_count = df['metro'].isnull().sum()\n",
    "total_rows = len(df)\n",
    "percent_missing = (missing_count / total_rows) * 100\n",
    "print(f\"Missing metro rows: {missing_count} ({percent_missing:.2f}%)\")"
   ]
  },
  {
   "cell_type": "code",
   "execution_count": 12,
   "id": "374c8ea8",
   "metadata": {
    "execution": {
     "iopub.execute_input": "2025-06-13T08:15:23.875560Z",
     "iopub.status.busy": "2025-06-13T08:15:23.875293Z",
     "iopub.status.idle": "2025-06-13T08:15:24.939950Z",
     "shell.execute_reply": "2025-06-13T08:15:24.939278Z"
    },
    "papermill": {
     "duration": 1.07652,
     "end_time": "2025-06-13T08:15:24.941275",
     "exception": false,
     "start_time": "2025-06-13T08:15:23.864755",
     "status": "completed"
    },
    "tags": []
   },
   "outputs": [],
   "source": [
    "df['revenue'] = df['revenue'].replace({'Million': '', 'Billion': '*1000'}, regex=True)\n",
    "df['revenue'] = df['revenue'].map(pd.eval)"
   ]
  },
  {
   "cell_type": "code",
   "execution_count": 13,
   "id": "f8fec23e",
   "metadata": {
    "execution": {
     "iopub.execute_input": "2025-06-13T08:15:24.961582Z",
     "iopub.status.busy": "2025-06-13T08:15:24.961369Z",
     "iopub.status.idle": "2025-06-13T08:15:24.966767Z",
     "shell.execute_reply": "2025-06-13T08:15:24.966148Z"
    },
    "papermill": {
     "duration": 0.016963,
     "end_time": "2025-06-13T08:15:24.968198",
     "exception": false,
     "start_time": "2025-06-13T08:15:24.951235",
     "status": "completed"
    },
    "tags": []
   },
   "outputs": [
    {
     "data": {
      "text/plain": [
       "0    36.9\n",
       "1    33.6\n",
       "2    24.9\n",
       "3    32.4\n",
       "4    22.5\n",
       "Name: revenue, dtype: float64"
      ]
     },
     "execution_count": 13,
     "metadata": {},
     "output_type": "execute_result"
    }
   ],
   "source": [
    "df['revenue'].head()"
   ]
  },
  {
   "cell_type": "code",
   "execution_count": 14,
   "id": "ec70caf7",
   "metadata": {
    "execution": {
     "iopub.execute_input": "2025-06-13T08:15:24.990015Z",
     "iopub.status.busy": "2025-06-13T08:15:24.989802Z",
     "iopub.status.idle": "2025-06-13T08:15:24.993558Z",
     "shell.execute_reply": "2025-06-13T08:15:24.992985Z"
    },
    "papermill": {
     "duration": 0.014804,
     "end_time": "2025-06-13T08:15:24.994467",
     "exception": false,
     "start_time": "2025-06-13T08:15:24.979663",
     "status": "completed"
    },
    "tags": []
   },
   "outputs": [
    {
     "name": "stdout",
     "output_type": "stream",
     "text": [
      "float64\n"
     ]
    }
   ],
   "source": [
    "print(df['revenue'].dtype)"
   ]
  },
  {
   "cell_type": "code",
   "execution_count": 15,
   "id": "f7f3d2ae",
   "metadata": {
    "execution": {
     "iopub.execute_input": "2025-06-13T08:15:25.014692Z",
     "iopub.status.busy": "2025-06-13T08:15:25.014503Z",
     "iopub.status.idle": "2025-06-13T08:15:25.018480Z",
     "shell.execute_reply": "2025-06-13T08:15:25.017742Z"
    },
    "papermill": {
     "duration": 0.015088,
     "end_time": "2025-06-13T08:15:25.019490",
     "exception": false,
     "start_time": "2025-06-13T08:15:25.004402",
     "status": "completed"
    },
    "tags": []
   },
   "outputs": [],
   "source": [
    "df['workers']=df['workers'].fillna(0)"
   ]
  },
  {
   "cell_type": "code",
   "execution_count": 16,
   "id": "76a4eea5",
   "metadata": {
    "execution": {
     "iopub.execute_input": "2025-06-13T08:15:25.039542Z",
     "iopub.status.busy": "2025-06-13T08:15:25.039066Z",
     "iopub.status.idle": "2025-06-13T08:15:25.045068Z",
     "shell.execute_reply": "2025-06-13T08:15:25.044433Z"
    },
    "papermill": {
     "duration": 0.01705,
     "end_time": "2025-06-13T08:15:25.046175",
     "exception": false,
     "start_time": "2025-06-13T08:15:25.029125",
     "status": "completed"
    },
    "tags": []
   },
   "outputs": [
    {
     "data": {
      "text/plain": [
       "0        40.0\n",
       "1        39.0\n",
       "2       190.0\n",
       "3        57.0\n",
       "4        25.0\n",
       "        ...  \n",
       "5007     88.0\n",
       "5008    380.0\n",
       "5009    187.0\n",
       "5010    132.0\n",
       "5011     27.0\n",
       "Name: workers, Length: 5012, dtype: float64"
      ]
     },
     "execution_count": 16,
     "metadata": {},
     "output_type": "execute_result"
    }
   ],
   "source": [
    "df['workers']\n"
   ]
  },
  {
   "cell_type": "markdown",
   "id": "6da5eda1",
   "metadata": {
    "papermill": {
     "duration": 0.009796,
     "end_time": "2025-06-13T08:15:25.065678",
     "exception": false,
     "start_time": "2025-06-13T08:15:25.055882",
     "status": "completed"
    },
    "tags": []
   },
   "source": [
    "# Checking missing values"
   ]
  },
  {
   "cell_type": "code",
   "execution_count": 17,
   "id": "71742982",
   "metadata": {
    "execution": {
     "iopub.execute_input": "2025-06-13T08:15:25.085384Z",
     "iopub.status.busy": "2025-06-13T08:15:25.085177Z",
     "iopub.status.idle": "2025-06-13T08:15:25.092592Z",
     "shell.execute_reply": "2025-06-13T08:15:25.091863Z"
    },
    "papermill": {
     "duration": 0.018517,
     "end_time": "2025-06-13T08:15:25.093713",
     "exception": false,
     "start_time": "2025-06-13T08:15:25.075196",
     "status": "completed"
    },
    "tags": []
   },
   "outputs": [
    {
     "data": {
      "text/plain": [
       "rank                  0\n",
       "profile               0\n",
       "name                  0\n",
       "url                   0\n",
       "state                 0\n",
       "revenue               0\n",
       "growth_%              0\n",
       "industry              0\n",
       "workers               0\n",
       "previous_workers      0\n",
       "founded               0\n",
       "yrs_on_list           0\n",
       "metro               813\n",
       "city                  0\n",
       "dtype: int64"
      ]
     },
     "execution_count": 17,
     "metadata": {},
     "output_type": "execute_result"
    }
   ],
   "source": [
    "df.isna().sum()"
   ]
  },
  {
   "cell_type": "markdown",
   "id": "893f7e60",
   "metadata": {
    "papermill": {
     "duration": 0.009453,
     "end_time": "2025-06-13T08:15:25.112941",
     "exception": false,
     "start_time": "2025-06-13T08:15:25.103488",
     "status": "completed"
    },
    "tags": []
   },
   "source": [
    "# Dealing with NULL values "
   ]
  },
  {
   "cell_type": "code",
   "execution_count": 18,
   "id": "13925f04",
   "metadata": {
    "execution": {
     "iopub.execute_input": "2025-06-13T08:15:25.132831Z",
     "iopub.status.busy": "2025-06-13T08:15:25.132644Z",
     "iopub.status.idle": "2025-06-13T08:15:25.137216Z",
     "shell.execute_reply": "2025-06-13T08:15:25.136673Z"
    },
    "papermill": {
     "duration": 0.015759,
     "end_time": "2025-06-13T08:15:25.138296",
     "exception": false,
     "start_time": "2025-06-13T08:15:25.122537",
     "status": "completed"
    },
    "tags": []
   },
   "outputs": [],
   "source": [
    "df['metro'] = df['metro'].fillna(df['city'])"
   ]
  },
  {
   "cell_type": "code",
   "execution_count": 19,
   "id": "d12d3f90",
   "metadata": {
    "execution": {
     "iopub.execute_input": "2025-06-13T08:15:25.158889Z",
     "iopub.status.busy": "2025-06-13T08:15:25.158692Z",
     "iopub.status.idle": "2025-06-13T08:15:25.171488Z",
     "shell.execute_reply": "2025-06-13T08:15:25.170932Z"
    },
    "papermill": {
     "duration": 0.023777,
     "end_time": "2025-06-13T08:15:25.172443",
     "exception": false,
     "start_time": "2025-06-13T08:15:25.148666",
     "status": "completed"
    },
    "tags": []
   },
   "outputs": [
    {
     "data": {
      "text/html": [
       "<div>\n",
       "<style scoped>\n",
       "    .dataframe tbody tr th:only-of-type {\n",
       "        vertical-align: middle;\n",
       "    }\n",
       "\n",
       "    .dataframe tbody tr th {\n",
       "        vertical-align: top;\n",
       "    }\n",
       "\n",
       "    .dataframe thead th {\n",
       "        text-align: right;\n",
       "    }\n",
       "</style>\n",
       "<table border=\"1\" class=\"dataframe\">\n",
       "  <thead>\n",
       "    <tr style=\"text-align: right;\">\n",
       "      <th></th>\n",
       "      <th>rank</th>\n",
       "      <th>profile</th>\n",
       "      <th>name</th>\n",
       "      <th>url</th>\n",
       "      <th>state</th>\n",
       "      <th>revenue</th>\n",
       "      <th>growth_%</th>\n",
       "      <th>industry</th>\n",
       "      <th>workers</th>\n",
       "      <th>previous_workers</th>\n",
       "      <th>founded</th>\n",
       "      <th>yrs_on_list</th>\n",
       "      <th>metro</th>\n",
       "      <th>city</th>\n",
       "    </tr>\n",
       "  </thead>\n",
       "  <tbody>\n",
       "    <tr>\n",
       "      <th>0</th>\n",
       "      <td>1</td>\n",
       "      <td>https://www.inc.com/profile/freestar</td>\n",
       "      <td>Freestar</td>\n",
       "      <td>http://freestar.com</td>\n",
       "      <td>AZ</td>\n",
       "      <td>36.9</td>\n",
       "      <td>36680.3882</td>\n",
       "      <td>Advertising &amp; Marketing</td>\n",
       "      <td>40.0</td>\n",
       "      <td>5</td>\n",
       "      <td>2015</td>\n",
       "      <td>1</td>\n",
       "      <td>Phoenix</td>\n",
       "      <td>Phoenix</td>\n",
       "    </tr>\n",
       "    <tr>\n",
       "      <th>1</th>\n",
       "      <td>2</td>\n",
       "      <td>https://www.inc.com/profile/freightwise</td>\n",
       "      <td>FreightWise</td>\n",
       "      <td>http://freightwisellc.com</td>\n",
       "      <td>TN</td>\n",
       "      <td>33.6</td>\n",
       "      <td>30547.9317</td>\n",
       "      <td>Logistics &amp; Transportation</td>\n",
       "      <td>39.0</td>\n",
       "      <td>8</td>\n",
       "      <td>2015</td>\n",
       "      <td>1</td>\n",
       "      <td>Nashville</td>\n",
       "      <td>Brentwood</td>\n",
       "    </tr>\n",
       "    <tr>\n",
       "      <th>2</th>\n",
       "      <td>3</td>\n",
       "      <td>https://www.inc.com/profile/ceces-veggie</td>\n",
       "      <td>Cece's Veggie Co.</td>\n",
       "      <td>http://cecesveggieco.com</td>\n",
       "      <td>TX</td>\n",
       "      <td>24.9</td>\n",
       "      <td>23880.4852</td>\n",
       "      <td>Food &amp; Beverage</td>\n",
       "      <td>190.0</td>\n",
       "      <td>10</td>\n",
       "      <td>2015</td>\n",
       "      <td>1</td>\n",
       "      <td>Austin</td>\n",
       "      <td>Austin</td>\n",
       "    </tr>\n",
       "    <tr>\n",
       "      <th>3</th>\n",
       "      <td>4</td>\n",
       "      <td>https://www.inc.com/profile/ladyboss</td>\n",
       "      <td>LadyBoss</td>\n",
       "      <td>http://ladyboss.com</td>\n",
       "      <td>NM</td>\n",
       "      <td>32.4</td>\n",
       "      <td>21849.8925</td>\n",
       "      <td>Consumer Products &amp; Services</td>\n",
       "      <td>57.0</td>\n",
       "      <td>2</td>\n",
       "      <td>2014</td>\n",
       "      <td>1</td>\n",
       "      <td>Albuquerque</td>\n",
       "      <td>Albuquerque</td>\n",
       "    </tr>\n",
       "    <tr>\n",
       "      <th>4</th>\n",
       "      <td>5</td>\n",
       "      <td>https://www.inc.com/profile/perpay</td>\n",
       "      <td>Perpay</td>\n",
       "      <td>http://perpay.com</td>\n",
       "      <td>PA</td>\n",
       "      <td>22.5</td>\n",
       "      <td>18166.4070</td>\n",
       "      <td>Retail</td>\n",
       "      <td>25.0</td>\n",
       "      <td>6</td>\n",
       "      <td>2014</td>\n",
       "      <td>1</td>\n",
       "      <td>Philadelphia</td>\n",
       "      <td>Philadelphia</td>\n",
       "    </tr>\n",
       "    <tr>\n",
       "      <th>5</th>\n",
       "      <td>6</td>\n",
       "      <td>https://www.inc.com/profile/cano-health</td>\n",
       "      <td>Cano Health</td>\n",
       "      <td>http://canohealth.com</td>\n",
       "      <td>FL</td>\n",
       "      <td>271.8</td>\n",
       "      <td>14183.4118</td>\n",
       "      <td>Health</td>\n",
       "      <td>742.0</td>\n",
       "      <td>18</td>\n",
       "      <td>2009</td>\n",
       "      <td>1</td>\n",
       "      <td>Miami</td>\n",
       "      <td>Miami</td>\n",
       "    </tr>\n",
       "    <tr>\n",
       "      <th>6</th>\n",
       "      <td>7</td>\n",
       "      <td>https://www.inc.com/profile/bear-mattress</td>\n",
       "      <td>Bear Mattress</td>\n",
       "      <td>http://bearmattress.com</td>\n",
       "      <td>NJ</td>\n",
       "      <td>20.5</td>\n",
       "      <td>13480.7310</td>\n",
       "      <td>Consumer Products &amp; Services</td>\n",
       "      <td>12.0</td>\n",
       "      <td>1</td>\n",
       "      <td>2014</td>\n",
       "      <td>1</td>\n",
       "      <td>New York City</td>\n",
       "      <td>Hoboken</td>\n",
       "    </tr>\n",
       "    <tr>\n",
       "      <th>7</th>\n",
       "      <td>8</td>\n",
       "      <td>https://www.inc.com/profile/connected-solution...</td>\n",
       "      <td>Connected Solutions Group</td>\n",
       "      <td>http://csgstore.net</td>\n",
       "      <td>VA</td>\n",
       "      <td>23.3</td>\n",
       "      <td>12700.6588</td>\n",
       "      <td>Telecommunications</td>\n",
       "      <td>72.0</td>\n",
       "      <td>1</td>\n",
       "      <td>2015</td>\n",
       "      <td>1</td>\n",
       "      <td>Richmond, VA</td>\n",
       "      <td>Mechanicsville</td>\n",
       "    </tr>\n",
       "    <tr>\n",
       "      <th>8</th>\n",
       "      <td>9</td>\n",
       "      <td>https://www.inc.com/profile/providence-healthc...</td>\n",
       "      <td>Providence Healthcare Management</td>\n",
       "      <td>http://providencehcm.com</td>\n",
       "      <td>OH</td>\n",
       "      <td>225.9</td>\n",
       "      <td>12564.5364</td>\n",
       "      <td>Health</td>\n",
       "      <td>60.0</td>\n",
       "      <td>10</td>\n",
       "      <td>2008</td>\n",
       "      <td>1</td>\n",
       "      <td>Cleveland</td>\n",
       "      <td>Cleveland</td>\n",
       "    </tr>\n",
       "    <tr>\n",
       "      <th>9</th>\n",
       "      <td>10</td>\n",
       "      <td>https://www.inc.com/profile/nom</td>\n",
       "      <td>NOM</td>\n",
       "      <td>http://thisisnom.co</td>\n",
       "      <td>CA</td>\n",
       "      <td>21.4</td>\n",
       "      <td>11996.2964</td>\n",
       "      <td>Advertising &amp; Marketing</td>\n",
       "      <td>37.0</td>\n",
       "      <td>5</td>\n",
       "      <td>2014</td>\n",
       "      <td>1</td>\n",
       "      <td>Los Angeles</td>\n",
       "      <td>Los Angeles</td>\n",
       "    </tr>\n",
       "  </tbody>\n",
       "</table>\n",
       "</div>"
      ],
      "text/plain": [
       "   rank                                            profile  \\\n",
       "0     1               https://www.inc.com/profile/freestar   \n",
       "1     2            https://www.inc.com/profile/freightwise   \n",
       "2     3           https://www.inc.com/profile/ceces-veggie   \n",
       "3     4               https://www.inc.com/profile/ladyboss   \n",
       "4     5                 https://www.inc.com/profile/perpay   \n",
       "5     6            https://www.inc.com/profile/cano-health   \n",
       "6     7          https://www.inc.com/profile/bear-mattress   \n",
       "7     8  https://www.inc.com/profile/connected-solution...   \n",
       "8     9  https://www.inc.com/profile/providence-healthc...   \n",
       "9    10                    https://www.inc.com/profile/nom   \n",
       "\n",
       "                               name                        url state  revenue  \\\n",
       "0                          Freestar        http://freestar.com    AZ     36.9   \n",
       "1                       FreightWise  http://freightwisellc.com    TN     33.6   \n",
       "2                 Cece's Veggie Co.   http://cecesveggieco.com    TX     24.9   \n",
       "3                          LadyBoss        http://ladyboss.com    NM     32.4   \n",
       "4                            Perpay          http://perpay.com    PA     22.5   \n",
       "5                       Cano Health      http://canohealth.com    FL    271.8   \n",
       "6                     Bear Mattress    http://bearmattress.com    NJ     20.5   \n",
       "7         Connected Solutions Group        http://csgstore.net    VA     23.3   \n",
       "8  Providence Healthcare Management   http://providencehcm.com    OH    225.9   \n",
       "9                               NOM        http://thisisnom.co    CA     21.4   \n",
       "\n",
       "     growth_%                      industry  workers  previous_workers  \\\n",
       "0  36680.3882       Advertising & Marketing     40.0                 5   \n",
       "1  30547.9317    Logistics & Transportation     39.0                 8   \n",
       "2  23880.4852               Food & Beverage    190.0                10   \n",
       "3  21849.8925  Consumer Products & Services     57.0                 2   \n",
       "4  18166.4070                        Retail     25.0                 6   \n",
       "5  14183.4118                        Health    742.0                18   \n",
       "6  13480.7310  Consumer Products & Services     12.0                 1   \n",
       "7  12700.6588            Telecommunications     72.0                 1   \n",
       "8  12564.5364                        Health     60.0                10   \n",
       "9  11996.2964       Advertising & Marketing     37.0                 5   \n",
       "\n",
       "   founded  yrs_on_list          metro            city  \n",
       "0     2015            1        Phoenix         Phoenix  \n",
       "1     2015            1      Nashville       Brentwood  \n",
       "2     2015            1         Austin          Austin  \n",
       "3     2014            1    Albuquerque     Albuquerque  \n",
       "4     2014            1   Philadelphia    Philadelphia  \n",
       "5     2009            1          Miami           Miami  \n",
       "6     2014            1  New York City         Hoboken  \n",
       "7     2015            1   Richmond, VA  Mechanicsville  \n",
       "8     2008            1      Cleveland       Cleveland  \n",
       "9     2014            1    Los Angeles     Los Angeles  "
      ]
     },
     "execution_count": 19,
     "metadata": {},
     "output_type": "execute_result"
    }
   ],
   "source": [
    "df.head(10)"
   ]
  },
  {
   "cell_type": "code",
   "execution_count": 20,
   "id": "e5340975",
   "metadata": {
    "execution": {
     "iopub.execute_input": "2025-06-13T08:15:25.194022Z",
     "iopub.status.busy": "2025-06-13T08:15:25.193800Z",
     "iopub.status.idle": "2025-06-13T08:15:25.200747Z",
     "shell.execute_reply": "2025-06-13T08:15:25.200114Z"
    },
    "papermill": {
     "duration": 0.018385,
     "end_time": "2025-06-13T08:15:25.201720",
     "exception": false,
     "start_time": "2025-06-13T08:15:25.183335",
     "status": "completed"
    },
    "tags": []
   },
   "outputs": [
    {
     "data": {
      "text/plain": [
       "rank                0\n",
       "profile             0\n",
       "name                0\n",
       "url                 0\n",
       "state               0\n",
       "revenue             0\n",
       "growth_%            0\n",
       "industry            0\n",
       "workers             0\n",
       "previous_workers    0\n",
       "founded             0\n",
       "yrs_on_list         0\n",
       "metro               0\n",
       "city                0\n",
       "dtype: int64"
      ]
     },
     "execution_count": 20,
     "metadata": {},
     "output_type": "execute_result"
    }
   ],
   "source": [
    "df.isna().sum()"
   ]
  },
  {
   "cell_type": "code",
   "execution_count": 21,
   "id": "ffbbd74d",
   "metadata": {
    "execution": {
     "iopub.execute_input": "2025-06-13T08:15:25.222106Z",
     "iopub.status.busy": "2025-06-13T08:15:25.221883Z",
     "iopub.status.idle": "2025-06-13T08:15:25.228705Z",
     "shell.execute_reply": "2025-06-13T08:15:25.228017Z"
    },
    "papermill": {
     "duration": 0.018134,
     "end_time": "2025-06-13T08:15:25.229757",
     "exception": false,
     "start_time": "2025-06-13T08:15:25.211623",
     "status": "completed"
    },
    "tags": []
   },
   "outputs": [
    {
     "data": {
      "text/plain": [
       "array([2015, 2014, 2009, 2008, 2013, 2006, 2010, 2012, 2004, 2011, 2007,\n",
       "       2000, 2002, 2005, 1999, 1995, 1994, 2003, 1988, 1985, 1984, 1909,\n",
       "       2001, 1993, 1996, 1998, 1989, 1974, 1992, 1991, 1945, 1979, 1987,\n",
       "       1982, 1997, 1962, 1978, 1976, 1899, 1957, 1990, 1977, 1986, 1981,\n",
       "       1946, 1956, 1980, 1939, 1949, 1929, 1902, 1917, 1975, 1970, 1983,\n",
       "       1923, 1965, 2016, 1955, 1953, 1959, 1969, 1948, 1925, 1973, 1928,\n",
       "       1963, 1972, 1914, 1884, 1910, 1932, 1941, 1967, 1951, 1869, 1968,\n",
       "       1964, 1897, 1895,    0, 1961, 1927])"
      ]
     },
     "execution_count": 21,
     "metadata": {},
     "output_type": "execute_result"
    }
   ],
   "source": [
    "#Checking the unique values of 'founded'\n",
    "df['founded'].unique()"
   ]
  },
  {
   "cell_type": "code",
   "execution_count": 22,
   "id": "9c53e380",
   "metadata": {
    "execution": {
     "iopub.execute_input": "2025-06-13T08:15:25.250736Z",
     "iopub.status.busy": "2025-06-13T08:15:25.250549Z",
     "iopub.status.idle": "2025-06-13T08:15:25.254503Z",
     "shell.execute_reply": "2025-06-13T08:15:25.253884Z"
    },
    "papermill": {
     "duration": 0.015721,
     "end_time": "2025-06-13T08:15:25.255727",
     "exception": false,
     "start_time": "2025-06-13T08:15:25.240006",
     "status": "completed"
    },
    "tags": []
   },
   "outputs": [],
   "source": [
    "#I found out that Nassau National Cable is in the industry for more than 60 years. So, 0 is not valid for Founded column. \n",
    "#I will replace 0 with 1960.\n",
    "\n",
    "df['founded'] = df['founded'].replace(0, 1960)"
   ]
  },
  {
   "cell_type": "code",
   "execution_count": 23,
   "id": "631e8169",
   "metadata": {
    "execution": {
     "iopub.execute_input": "2025-06-13T08:15:25.277177Z",
     "iopub.status.busy": "2025-06-13T08:15:25.276661Z",
     "iopub.status.idle": "2025-06-13T08:15:25.291973Z",
     "shell.execute_reply": "2025-06-13T08:15:25.291452Z"
    },
    "papermill": {
     "duration": 0.026525,
     "end_time": "2025-06-13T08:15:25.292912",
     "exception": false,
     "start_time": "2025-06-13T08:15:25.266387",
     "status": "completed"
    },
    "tags": []
   },
   "outputs": [
    {
     "data": {
      "text/html": [
       "<div>\n",
       "<style scoped>\n",
       "    .dataframe tbody tr th:only-of-type {\n",
       "        vertical-align: middle;\n",
       "    }\n",
       "\n",
       "    .dataframe tbody tr th {\n",
       "        vertical-align: top;\n",
       "    }\n",
       "\n",
       "    .dataframe thead th {\n",
       "        text-align: right;\n",
       "    }\n",
       "</style>\n",
       "<table border=\"1\" class=\"dataframe\">\n",
       "  <thead>\n",
       "    <tr style=\"text-align: right;\">\n",
       "      <th></th>\n",
       "      <th>rank</th>\n",
       "      <th>profile</th>\n",
       "      <th>name</th>\n",
       "      <th>url</th>\n",
       "      <th>state</th>\n",
       "      <th>revenue</th>\n",
       "      <th>growth_%</th>\n",
       "      <th>industry</th>\n",
       "      <th>workers</th>\n",
       "      <th>previous_workers</th>\n",
       "      <th>founded</th>\n",
       "      <th>yrs_on_list</th>\n",
       "      <th>metro</th>\n",
       "      <th>city</th>\n",
       "    </tr>\n",
       "  </thead>\n",
       "  <tbody>\n",
       "    <tr>\n",
       "      <th>4725</th>\n",
       "      <td>4714</td>\n",
       "      <td>https://www.inc.com/profile/nassau-national-cable</td>\n",
       "      <td>Nassau National Cable</td>\n",
       "      <td>http://nassaunationalcable.com</td>\n",
       "      <td>NY</td>\n",
       "      <td>11.0</td>\n",
       "      <td>59.9934</td>\n",
       "      <td>Business Products &amp; Services</td>\n",
       "      <td>30.0</td>\n",
       "      <td>6</td>\n",
       "      <td>1960</td>\n",
       "      <td>6</td>\n",
       "      <td>New York City</td>\n",
       "      <td>GREAT NECK</td>\n",
       "    </tr>\n",
       "  </tbody>\n",
       "</table>\n",
       "</div>"
      ],
      "text/plain": [
       "      rank                                            profile  \\\n",
       "4725  4714  https://www.inc.com/profile/nassau-national-cable   \n",
       "\n",
       "                       name                             url state  revenue  \\\n",
       "4725  Nassau National Cable  http://nassaunationalcable.com    NY     11.0   \n",
       "\n",
       "      growth_%                      industry  workers  previous_workers  \\\n",
       "4725   59.9934  Business Products & Services     30.0                 6   \n",
       "\n",
       "      founded  yrs_on_list          metro        city  \n",
       "4725     1960            6  New York City  GREAT NECK  "
      ]
     },
     "execution_count": 23,
     "metadata": {},
     "output_type": "execute_result"
    }
   ],
   "source": [
    "df[df[\"founded\"] == 1960]"
   ]
  },
  {
   "cell_type": "markdown",
   "id": "99b6e2fe",
   "metadata": {
    "papermill": {
     "duration": 0.01003,
     "end_time": "2025-06-13T08:15:25.313287",
     "exception": false,
     "start_time": "2025-06-13T08:15:25.303257",
     "status": "completed"
    },
    "tags": []
   },
   "source": [
    "### Average Revenue"
   ]
  },
  {
   "cell_type": "code",
   "execution_count": 24,
   "id": "d9e56038",
   "metadata": {
    "execution": {
     "iopub.execute_input": "2025-06-13T08:15:25.334803Z",
     "iopub.status.busy": "2025-06-13T08:15:25.334617Z",
     "iopub.status.idle": "2025-06-13T08:15:25.339459Z",
     "shell.execute_reply": "2025-06-13T08:15:25.339011Z"
    },
    "papermill": {
     "duration": 0.016463,
     "end_time": "2025-06-13T08:15:25.340463",
     "exception": false,
     "start_time": "2025-06-13T08:15:25.324000",
     "status": "completed"
    },
    "tags": []
   },
   "outputs": [],
   "source": [
    "avg_revenue = df[\"revenue\"].describe()"
   ]
  },
  {
   "cell_type": "code",
   "execution_count": 25,
   "id": "18eea2c4",
   "metadata": {
    "execution": {
     "iopub.execute_input": "2025-06-13T08:15:25.361792Z",
     "iopub.status.busy": "2025-06-13T08:15:25.361560Z",
     "iopub.status.idle": "2025-06-13T08:15:25.366473Z",
     "shell.execute_reply": "2025-06-13T08:15:25.365781Z"
    },
    "papermill": {
     "duration": 0.016706,
     "end_time": "2025-06-13T08:15:25.367460",
     "exception": false,
     "start_time": "2025-06-13T08:15:25.350754",
     "status": "completed"
    },
    "tags": []
   },
   "outputs": [
    {
     "data": {
      "text/plain": [
       "count     5012.000000\n",
       "mean        47.470830\n",
       "std        391.334265\n",
       "min          2.000000\n",
       "25%          4.800000\n",
       "50%         10.400000\n",
       "75%         27.000000\n",
       "max      21400.000000\n",
       "Name: revenue, dtype: float64"
      ]
     },
     "execution_count": 25,
     "metadata": {},
     "output_type": "execute_result"
    }
   ],
   "source": [
    "avg_revenue"
   ]
  },
  {
   "cell_type": "markdown",
   "id": "0841c651",
   "metadata": {
    "papermill": {
     "duration": 0.01034,
     "end_time": "2025-06-13T08:15:25.388242",
     "exception": false,
     "start_time": "2025-06-13T08:15:25.377902",
     "status": "completed"
    },
    "tags": []
   },
   "source": [
    "#### Average revenue among the companies on the list is 47.47 Millions."
   ]
  },
  {
   "cell_type": "markdown",
   "id": "d7653d2d",
   "metadata": {
    "papermill": {
     "duration": 0.010184,
     "end_time": "2025-06-13T08:15:25.408727",
     "exception": false,
     "start_time": "2025-06-13T08:15:25.398543",
     "status": "completed"
    },
    "tags": []
   },
   "source": [
    "### 1.What's the average revenue among companies on the list? Broken down by industry?\n"
   ]
  },
  {
   "cell_type": "code",
   "execution_count": 26,
   "id": "91344c41",
   "metadata": {
    "execution": {
     "iopub.execute_input": "2025-06-13T08:15:25.430057Z",
     "iopub.status.busy": "2025-06-13T08:15:25.429822Z",
     "iopub.status.idle": "2025-06-13T08:15:25.443789Z",
     "shell.execute_reply": "2025-06-13T08:15:25.443102Z"
    },
    "papermill": {
     "duration": 0.025825,
     "end_time": "2025-06-13T08:15:25.444874",
     "exception": false,
     "start_time": "2025-06-13T08:15:25.419049",
     "status": "completed"
    },
    "tags": []
   },
   "outputs": [
    {
     "data": {
      "text/plain": [
       "industry\n",
       "Security                        123.747761\n",
       "Health                          109.330056\n",
       "Logistics & Transportation      101.293011\n",
       "Energy                           80.221795\n",
       "Human Resources                  73.582166\n",
       "Consumer Products & Services     72.073651\n",
       "Retail                           66.552761\n",
       "Government Services              59.391949\n",
       "Insurance                        58.742857\n",
       "Construction                     58.422571\n",
       "Telecommunications               41.825316\n",
       "Financial Services               40.004184\n",
       "Food & Beverage                  39.855906\n",
       "Real Estate                      34.061111\n",
       "Manufacturing                    33.303315\n",
       "Engineering                      32.954321\n",
       "Computer Hardware                31.178125\n",
       "Business Products & Services     28.601829\n",
       "Travel & Hospitality             26.736842\n",
       "IT Management                    22.577536\n",
       "Environmental Services           22.506977\n",
       "Software                         21.573970\n",
       "IT System Development            21.088333\n",
       "Education                        20.835714\n",
       "IT Services                      19.130233\n",
       "Advertising & Marketing          18.908384\n",
       "Media                            16.708696\n",
       "Name: revenue, dtype: float64"
      ]
     },
     "execution_count": 26,
     "metadata": {},
     "output_type": "execute_result"
    }
   ],
   "source": [
    "df.groupby('industry')['revenue'].mean().sort_values(ascending = False)"
   ]
  },
  {
   "cell_type": "code",
   "execution_count": 27,
   "id": "37841c76",
   "metadata": {
    "execution": {
     "iopub.execute_input": "2025-06-13T08:15:25.466206Z",
     "iopub.status.busy": "2025-06-13T08:15:25.466005Z",
     "iopub.status.idle": "2025-06-13T08:15:25.963004Z",
     "shell.execute_reply": "2025-06-13T08:15:25.962342Z"
    },
    "papermill": {
     "duration": 0.510425,
     "end_time": "2025-06-13T08:15:25.965672",
     "exception": false,
     "start_time": "2025-06-13T08:15:25.455247",
     "status": "completed"
    },
    "tags": []
   },
   "outputs": [
    {
     "data": {
      "image/png": "[encoded data removed]",
      "text/plain": [
       "<Figure size 1200x600 with 1 Axes>"
      ]
     },
     "metadata": {},
     "output_type": "display_data"
    }
   ],
   "source": [
    "industry_revenue = df.groupby('industry')['revenue'].mean().sort_values()\n",
    "\n",
    "#Create a bar chart with seaborn\n",
    "#sns.set_style(\"whitegrid\")\n",
    "plt.figure(figsize=(12,6))\n",
    "sns.barplot(x=industry_revenue.index, y=industry_revenue.values, palette=\"flare\")\n",
    "plt.title('Average Revenue by Industry', fontsize=16)\n",
    "plt.xlabel('Industry', fontsize=14)\n",
    "plt.ylabel('Average Revenue (in millions USD)', fontsize=12)\n",
    "plt.xticks(rotation=45, ha='right', fontsize=10)\n",
    "plt.yticks(fontsize=12)\n",
    "plt.show()\n"
   ]
  },
  {
   "cell_type": "markdown",
   "id": "e86e6f08",
   "metadata": {
    "papermill": {
     "duration": 0.011967,
     "end_time": "2025-06-13T08:15:25.990669",
     "exception": false,
     "start_time": "2025-06-13T08:15:25.978702",
     "status": "completed"
    },
    "tags": []
   },
   "source": [
    "#### The Security industry leads with the highest average revenue at 127 million USD, reflecting the growing demand for cybersecurity solutions. It is followed by Health (109 million USD), driven by continuous healthcare innovation and service demand, and Logistics & Transportation (97 million USD), benefiting from global e-commerce and supply chain expansion. Advertising & Marketing records the lowest average revenue at 19 million USD, likely due to its fragmented nature and dependence on client budgets. Education (17 million USD) and Media (18 million USD) also report low averages, possibly due to funding limitations and the ongoing shift from traditional to digital formats."
   ]
  },
  {
   "cell_type": "markdown",
   "id": "61d4c0f6",
   "metadata": {
    "papermill": {
     "duration": 0.012019,
     "end_time": "2025-06-13T08:15:26.014775",
     "exception": false,
     "start_time": "2025-06-13T08:15:26.002756",
     "status": "completed"
    },
    "tags": []
   },
   "source": [
    "### 2 . Which industries have most and least represented count"
   ]
  },
  {
   "cell_type": "code",
   "execution_count": 28,
   "id": "f810fc26",
   "metadata": {
    "execution": {
     "iopub.execute_input": "2025-06-13T08:15:26.040387Z",
     "iopub.status.busy": "2025-06-13T08:15:26.040145Z",
     "iopub.status.idle": "2025-06-13T08:15:26.044288Z",
     "shell.execute_reply": "2025-06-13T08:15:26.043736Z"
    },
    "papermill": {
     "duration": 0.01837,
     "end_time": "2025-06-13T08:15:26.045431",
     "exception": false,
     "start_time": "2025-06-13T08:15:26.027061",
     "status": "completed"
    },
    "tags": []
   },
   "outputs": [],
   "source": [
    "industry_counts = df['industry'].value_counts()"
   ]
  },
  {
   "cell_type": "code",
   "execution_count": 29,
   "id": "325ef7de",
   "metadata": {
    "execution": {
     "iopub.execute_input": "2025-06-13T08:15:26.071801Z",
     "iopub.status.busy": "2025-06-13T08:15:26.071594Z",
     "iopub.status.idle": "2025-06-13T08:15:26.076633Z",
     "shell.execute_reply": "2025-06-13T08:15:26.076117Z"
    },
    "papermill": {
     "duration": 0.019124,
     "end_time": "2025-06-13T08:15:26.077619",
     "exception": false,
     "start_time": "2025-06-13T08:15:26.058495",
     "status": "completed"
    },
    "tags": []
   },
   "outputs": [
    {
     "data": {
      "text/plain": [
       "industry\n",
       "Business Products & Services    492\n",
       "Advertising & Marketing         489\n",
       "Software                        461\n",
       "Health                          356\n",
       "Construction                    350\n",
       "Consumer Products & Services    315\n",
       "IT Management                   276\n",
       "Financial Services              239\n",
       "Government Services             236\n",
       "Real Estate                     198\n",
       "Logistics & Transportation      186\n",
       "Manufacturing                   181\n",
       "Retail                          163\n",
       "Human Resources                 157\n",
       "Food & Beverage                 127\n",
       "IT System Development           120\n",
       "Engineering                      81\n",
       "Telecommunications               79\n",
       "Energy                           78\n",
       "Insurance                        70\n",
       "Education                        70\n",
       "Security                         67\n",
       "Travel & Hospitality             57\n",
       "Media                            46\n",
       "Environmental Services           43\n",
       "IT Services                      43\n",
       "Computer Hardware                32\n",
       "Name: count, dtype: int64"
      ]
     },
     "execution_count": 29,
     "metadata": {},
     "output_type": "execute_result"
    }
   ],
   "source": [
    "industry_counts"
   ]
  },
  {
   "cell_type": "code",
   "execution_count": 30,
   "id": "86af3f5e",
   "metadata": {
    "execution": {
     "iopub.execute_input": "2025-06-13T08:15:26.103419Z",
     "iopub.status.busy": "2025-06-13T08:15:26.103225Z",
     "iopub.status.idle": "2025-06-13T08:15:26.392412Z",
     "shell.execute_reply": "2025-06-13T08:15:26.391717Z"
    },
    "papermill": {
     "duration": 0.303448,
     "end_time": "2025-06-13T08:15:26.393562",
     "exception": false,
     "start_time": "2025-06-13T08:15:26.090114",
     "status": "completed"
    },
    "tags": []
   },
   "outputs": [
    {
     "data": {
      "image/png": "[encoded data removed]",
      "text/plain": [
       "<Figure size 1200x600 with 1 Axes>"
      ]
     },
     "metadata": {},
     "output_type": "display_data"
    }
   ],
   "source": [
    "plt.figure(figsize=(12, 6))\n",
    "sns.countplot(y='industry', data=df, order=df['industry'].value_counts().index, palette='dark:#5A9_r')\n",
    "plt.title('Number of Companies by Industry')\n",
    "plt.xlabel('Number of Companies')\n",
    "plt.ylabel('Industry')\n",
    "plt.show()"
   ]
  },
  {
   "cell_type": "markdown",
   "id": "f117e91d",
   "metadata": {
    "papermill": {
     "duration": 0.013037,
     "end_time": "2025-06-13T08:15:26.420686",
     "exception": false,
     "start_time": "2025-06-13T08:15:26.407649",
     "status": "completed"
    },
    "tags": []
   },
   "source": [
    "#### The most represented industries on the list\n",
    "1. Business Products & Services\n",
    "2. Advertising & Marketing\n",
    "3. Software\n",
    "Each of these industries has over 400 companies listed.\n",
    "\n",
    "#### On the other hand, the least represented industries on the list are\n",
    "1. Environmental Services\n",
    "2. IT Services\n",
    "3. Computer Hardware\n",
    "Each of these industries has less than 40 companies listed."
   ]
  },
  {
   "cell_type": "markdown",
   "id": "a178a241",
   "metadata": {
    "papermill": {
     "duration": 0.013484,
     "end_time": "2025-06-13T08:15:26.447308",
     "exception": false,
     "start_time": "2025-06-13T08:15:26.433824",
     "status": "completed"
    },
    "tags": []
   },
   "source": [
    "#### 3.Do you notice any interesting geographic trends?"
   ]
  },
  {
   "cell_type": "code",
   "execution_count": 31,
   "id": "02a5089e",
   "metadata": {
    "execution": {
     "iopub.execute_input": "2025-06-13T08:15:26.475117Z",
     "iopub.status.busy": "2025-06-13T08:15:26.474869Z",
     "iopub.status.idle": "2025-06-13T08:15:26.479193Z",
     "shell.execute_reply": "2025-06-13T08:15:26.478500Z"
    },
    "papermill": {
     "duration": 0.01923,
     "end_time": "2025-06-13T08:15:26.480262",
     "exception": false,
     "start_time": "2025-06-13T08:15:26.461032",
     "status": "completed"
    },
    "tags": []
   },
   "outputs": [],
   "source": [
    "state_counts = df['state'].value_counts()"
   ]
  },
  {
   "cell_type": "code",
   "execution_count": 32,
   "id": "aaf8cac1",
   "metadata": {
    "execution": {
     "iopub.execute_input": "2025-06-13T08:15:26.508738Z",
     "iopub.status.busy": "2025-06-13T08:15:26.508206Z",
     "iopub.status.idle": "2025-06-13T08:15:26.513400Z",
     "shell.execute_reply": "2025-06-13T08:15:26.512661Z"
    },
    "papermill": {
     "duration": 0.020399,
     "end_time": "2025-06-13T08:15:26.514398",
     "exception": false,
     "start_time": "2025-06-13T08:15:26.493999",
     "status": "completed"
    },
    "tags": []
   },
   "outputs": [
    {
     "data": {
      "text/plain": [
       "state\n",
       "CA    712\n",
       "TX    467\n",
       "FL    385\n",
       "NY    300\n",
       "VA    288\n",
       "IL    241\n",
       "GA    219\n",
       "PA    172\n",
       "OH    160\n",
       "CO    156\n",
       "NC    135\n",
       "MA    133\n",
       "MD    130\n",
       "NJ    128\n",
       "UT    123\n",
       "AZ    104\n",
       "WA    101\n",
       "TN     84\n",
       "MI     82\n",
       "MN     81\n",
       "MO     75\n",
       "AL     64\n",
       "IN     63\n",
       "OR     59\n",
       "SC     56\n",
       "WI     49\n",
       "DC     43\n",
       "CT     37\n",
       "LA     37\n",
       "KY     34\n",
       "NV     33\n",
       "IA     31\n",
       "OK     28\n",
       "KS     27\n",
       "NE     27\n",
       "ID     21\n",
       "NH     20\n",
       "SD     14\n",
       "MT     11\n",
       "DE     11\n",
       "ME     11\n",
       "AR     10\n",
       "ND     10\n",
       "NM      7\n",
       "WV      7\n",
       "WY      6\n",
       "VT      5\n",
       "RI      5\n",
       "MS      4\n",
       "HI      4\n",
       "PR      2\n",
       "Name: count, dtype: int64"
      ]
     },
     "execution_count": 32,
     "metadata": {},
     "output_type": "execute_result"
    }
   ],
   "source": [
    "state_counts"
   ]
  },
  {
   "cell_type": "code",
   "execution_count": 33,
   "id": "8385d88c",
   "metadata": {
    "execution": {
     "iopub.execute_input": "2025-06-13T08:15:26.542108Z",
     "iopub.status.busy": "2025-06-13T08:15:26.541503Z",
     "iopub.status.idle": "2025-06-13T08:15:26.873628Z",
     "shell.execute_reply": "2025-06-13T08:15:26.872920Z"
    },
    "papermill": {
     "duration": 0.347051,
     "end_time": "2025-06-13T08:15:26.874971",
     "exception": false,
     "start_time": "2025-06-13T08:15:26.527920",
     "status": "completed"
    },
    "tags": []
   },
   "outputs": [
    {
     "data": {
      "image/png": "[encoded data removed]",
      "text/plain": [
       "<Figure size 1200x600 with 1 Axes>"
      ]
     },
     "metadata": {},
     "output_type": "display_data"
    }
   ],
   "source": [
    "state_counts = df['state'].value_counts()\n",
    "\n",
    "plt.figure(figsize=(12,6))\n",
    "plt.bar(state_counts.index, state_counts.values, color='skyblue')\n",
    "plt.title('Number of Companies by State')\n",
    "plt.xlabel('State')\n",
    "plt.ylabel('Number of Companies')\n",
    "plt.show()\n"
   ]
  },
  {
   "cell_type": "markdown",
   "id": "1b6123b0",
   "metadata": {
    "papermill": {
     "duration": 0.013808,
     "end_time": "2025-06-13T08:15:26.903291",
     "exception": false,
     "start_time": "2025-06-13T08:15:26.889483",
     "status": "completed"
    },
    "tags": []
   },
   "source": [
    "## The top 5 states with the highest number of companies in the dataset are\n",
    "\n",
    "1. California (712)\n",
    "\n",
    "2. Texas (467)\n",
    "\n",
    "3. Florida (384)\n",
    "\n",
    "4. New York (300)\n",
    "\n",
    "5. Virginia (288)"
   ]
  },
  {
   "cell_type": "code",
   "execution_count": 34,
   "id": "2bd5ebfe",
   "metadata": {
    "execution": {
     "iopub.execute_input": "2025-06-13T08:15:26.931697Z",
     "iopub.status.busy": "2025-06-13T08:15:26.931261Z",
     "iopub.status.idle": "2025-06-13T08:15:29.536813Z",
     "shell.execute_reply": "2025-06-13T08:15:29.536081Z"
    },
    "papermill": {
     "duration": 2.621025,
     "end_time": "2025-06-13T08:15:29.538137",
     "exception": false,
     "start_time": "2025-06-13T08:15:26.917112",
     "status": "completed"
    },
    "tags": []
   },
   "outputs": [
    {
     "data": {
      "text/html": [
       "<html>\n",
       "<head><meta charset=\"utf-8\" /></head>\n",
       "<body>\n",
       "    <div>            <script src=\"https://cdnjs.cloudflare.com/ajax/libs/mathjax/2.7.5/MathJax.js?config=TeX-AMS-MML_SVG\"></script><script type=\"text/javascript\">if (window.MathJax && window.MathJax.Hub && window.MathJax.Hub.Config) {window.MathJax.Hub.Config({SVG: {font: \"STIX-Web\"}});}</script>                <script type=\"text/javascript\">window.PlotlyConfig = {MathJaxConfig: 'local'};</script>\n",
       "        <script charset=\"utf-8\" src=\"https://cdn.plot.ly/plotly-2.35.2.min.js\"></script>                <div id=\"c085c08a-2fd3-47cd-84ae-e3fa24ab063a\" class=\"plotly-graph-div\" style=\"height:525px; width:100%;\"></div>            <script type=\"text/javascript\">                                    window.PLOTLYENV=window.PLOTLYENV || {};                                    if (document.getElementById(\"c085c08a-2fd3-47cd-84ae-e3fa24ab063a\")) {                    Plotly.newPlot(                        \"c085c08a-2fd3-47cd-84ae-e3fa24ab063a\",                        [{\"coloraxis\":\"coloraxis\",\"geo\":\"geo\",\"hovertemplate\":\"state=%{location}\\u003cbr\\u003ecount=%{z}\\u003cextra\\u003e\\u003c\\u002fextra\\u003e\",\"locationmode\":\"USA-states\",\"locations\":[\"CA\",\"TX\",\"FL\",\"NY\",\"VA\",\"IL\",\"GA\",\"PA\",\"OH\",\"CO\",\"NC\",\"MA\",\"MD\",\"NJ\",\"UT\",\"AZ\",\"WA\",\"TN\",\"MI\",\"MN\",\"MO\",\"AL\",\"IN\",\"OR\",\"SC\",\"WI\",\"DC\",\"CT\",\"LA\",\"KY\",\"NV\",\"IA\",\"OK\",\"KS\",\"NE\",\"ID\",\"NH\",\"SD\",\"MT\",\"DE\",\"ME\",\"AR\",\"ND\",\"NM\",\"WV\",\"WY\",\"VT\",\"RI\",\"MS\",\"HI\",\"PR\"],\"name\":\"\",\"z\":[712,467,385,300,288,241,219,172,160,156,135,133,130,128,123,104,101,84,82,81,75,64,63,59,56,49,43,37,37,34,33,31,28,27,27,21,20,14,11,11,11,10,10,7,7,6,5,5,4,4,2],\"type\":\"choropleth\"}],                        {\"template\":{\"data\":{\"histogram2dcontour\":[{\"type\":\"histogram2dcontour\",\"colorbar\":{\"outlinewidth\":0,\"ticks\":\"\"},\"colorscale\":[[0.0,\"#0d0887\"],[0.1111111111111111,\"#46039f\"],[0.2222222222222222,\"#7201a8\"],[0.3333333333333333,\"#9c179e\"],[0.4444444444444444,\"#bd3786\"],[0.5555555555555556,\"#d8576b\"],[0.6666666666666666,\"#ed7953\"],[0.7777777777777778,\"#fb9f3a\"],[0.8888888888888888,\"#fdca26\"],[1.0,\"#f0f921\"]]}],\"choropleth\":[{\"type\":\"choropleth\",\"colorbar\":{\"outlinewidth\":0,\"ticks\":\"\"}}],\"histogram2d\":[{\"type\":\"histogram2d\",\"colorbar\":{\"outlinewidth\":0,\"ticks\":\"\"},\"colorscale\":[[0.0,\"#0d0887\"],[0.1111111111111111,\"#46039f\"],[0.2222222222222222,\"#7201a8\"],[0.3333333333333333,\"#9c179e\"],[0.4444444444444444,\"#bd3786\"],[0.5555555555555556,\"#d8576b\"],[0.6666666666666666,\"#ed7953\"],[0.7777777777777778,\"#fb9f3a\"],[0.8888888888888888,\"#fdca26\"],[1.0,\"#f0f921\"]]}],\"heatmap\":[{\"type\":\"heatmap\",\"colorbar\":{\"outlinewidth\":0,\"ticks\":\"\"},\"colorscale\":[[0.0,\"#0d0887\"],[0.1111111111111111,\"#46039f\"],[0.2222222222222222,\"#7201a8\"],[0.3333333333333333,\"#9c179e\"],[0.4444444444444444,\"#bd3786\"],[0.5555555555555556,\"#d8576b\"],[0.6666666666666666,\"#ed7953\"],[0.7777777777777778,\"#fb9f3a\"],[0.8888888888888888,\"#fdca26\"],[1.0,\"#f0f921\"]]}],\"heatmapgl\":[{\"type\":\"heatmapgl\",\"colorbar\":{\"outlinewidth\":0,\"ticks\":\"\"},\"colorscale\":[[0.0,\"#0d0887\"],[0.1111111111111111,\"#46039f\"],[0.2222222222222222,\"#7201a8\"],[0.3333333333333333,\"#9c179e\"],[0.4444444444444444,\"#bd3786\"],[0.5555555555555556,\"#d8576b\"],[0.6666666666666666,\"#ed7953\"],[0.7777777777777778,\"#fb9f3a\"],[0.8888888888888888,\"#fdca26\"],[1.0,\"#f0f921\"]]}],\"contourcarpet\":[{\"type\":\"contourcarpet\",\"colorbar\":{\"outlinewidth\":0,\"ticks\":\"\"}}],\"contour\":[{\"type\":\"contour\",\"colorbar\":{\"outlinewidth\":0,\"ticks\":\"\"},\"colorscale\":[[0.0,\"#0d0887\"],[0.1111111111111111,\"#46039f\"],[0.2222222222222222,\"#7201a8\"],[0.3333333333333333,\"#9c179e\"],[0.4444444444444444,\"#bd3786\"],[0.5555555555555556,\"#d8576b\"],[0.6666666666666666,\"#ed7953\"],[0.7777777777777778,\"#fb9f3a\"],[0.8888888888888888,\"#fdca26\"],[1.0,\"#f0f921\"]]}],\"surface\":[{\"type\":\"surface\",\"colorbar\":{\"outlinewidth\":0,\"ticks\":\"\"},\"colorscale\":[[0.0,\"#0d0887\"],[0.1111111111111111,\"#46039f\"],[0.2222222222222222,\"#7201a8\"],[0.3333333333333333,\"#9c179e\"],[0.4444444444444444,\"#bd3786\"],[0.5555555555555556,\"#d8576b\"],[0.6666666666666666,\"#ed7953\"],[0.7777777777777778,\"#fb9f3a\"],[0.8888888888888888,\"#fdca26\"],[1.0,\"#f0f921\"]]}],\"mesh3d\":[{\"type\":\"mesh3d\",\"colorbar\":{\"outlinewidth\":0,\"ticks\":\"\"}}],\"scatter\":[{\"fillpattern\":{\"fillmode\":\"overlay\",\"size\":10,\"solidity\":0.2},\"type\":\"scatter\"}],\"parcoords\":[{\"type\":\"parcoords\",\"line\":{\"colorbar\":{\"outlinewidth\":0,\"ticks\":\"\"}}}],\"scatterpolargl\":[{\"type\":\"scatterpolargl\",\"marker\":{\"colorbar\":{\"outlinewidth\":0,\"ticks\":\"\"}}}],\"bar\":[{\"error_x\":{\"color\":\"#2a3f5f\"},\"error_y\":{\"color\":\"#2a3f5f\"},\"marker\":{\"line\":{\"color\":\"#E5ECF6\",\"width\":0.5},\"pattern\":{\"fillmode\":\"overlay\",\"size\":10,\"solidity\":0.2}},\"type\":\"bar\"}],\"scattergeo\":[{\"type\":\"scattergeo\",\"marker\":{\"colorbar\":{\"outlinewidth\":0,\"ticks\":\"\"}}}],\"scatterpolar\":[{\"type\":\"scatterpolar\",\"marker\":{\"colorbar\":{\"outlinewidth\":0,\"ticks\":\"\"}}}],\"histogram\":[{\"marker\":{\"pattern\":{\"fillmode\":\"overlay\",\"size\":10,\"solidity\":0.2}},\"type\":\"histogram\"}],\"scattergl\":[{\"type\":\"scattergl\",\"marker\":{\"colorbar\":{\"outlinewidth\":0,\"ticks\":\"\"}}}],\"scatter3d\":[{\"type\":\"scatter3d\",\"line\":{\"colorbar\":{\"outlinewidth\":0,\"ticks\":\"\"}},\"marker\":{\"colorbar\":{\"outlinewidth\":0,\"ticks\":\"\"}}}],\"scattermapbox\":[{\"type\":\"scattermapbox\",\"marker\":{\"colorbar\":{\"outlinewidth\":0,\"ticks\":\"\"}}}],\"scatterternary\":[{\"type\":\"scatterternary\",\"marker\":{\"colorbar\":{\"outlinewidth\":0,\"ticks\":\"\"}}}],\"scattercarpet\":[{\"type\":\"scattercarpet\",\"marker\":{\"colorbar\":{\"outlinewidth\":0,\"ticks\":\"\"}}}],\"carpet\":[{\"aaxis\":{\"endlinecolor\":\"#2a3f5f\",\"gridcolor\":\"white\",\"linecolor\":\"white\",\"minorgridcolor\":\"white\",\"startlinecolor\":\"#2a3f5f\"},\"baxis\":{\"endlinecolor\":\"#2a3f5f\",\"gridcolor\":\"white\",\"linecolor\":\"white\",\"minorgridcolor\":\"white\",\"startlinecolor\":\"#2a3f5f\"},\"type\":\"carpet\"}],\"table\":[{\"cells\":{\"fill\":{\"color\":\"#EBF0F8\"},\"line\":{\"color\":\"white\"}},\"header\":{\"fill\":{\"color\":\"#C8D4E3\"},\"line\":{\"color\":\"white\"}},\"type\":\"table\"}],\"barpolar\":[{\"marker\":{\"line\":{\"color\":\"#E5ECF6\",\"width\":0.5},\"pattern\":{\"fillmode\":\"overlay\",\"size\":10,\"solidity\":0.2}},\"type\":\"barpolar\"}],\"pie\":[{\"automargin\":true,\"type\":\"pie\"}]},\"layout\":{\"autotypenumbers\":\"strict\",\"colorway\":[\"#636efa\",\"#EF553B\",\"#00cc96\",\"#ab63fa\",\"#FFA15A\",\"#19d3f3\",\"#FF6692\",\"#B6E880\",\"#FF97FF\",\"#FECB52\"],\"font\":{\"color\":\"#2a3f5f\"},\"hovermode\":\"closest\",\"hoverlabel\":{\"align\":\"left\"},\"paper_bgcolor\":\"white\",\"plot_bgcolor\":\"#E5ECF6\",\"polar\":{\"bgcolor\":\"#E5ECF6\",\"angularaxis\":{\"gridcolor\":\"white\",\"linecolor\":\"white\",\"ticks\":\"\"},\"radialaxis\":{\"gridcolor\":\"white\",\"linecolor\":\"white\",\"ticks\":\"\"}},\"ternary\":{\"bgcolor\":\"#E5ECF6\",\"aaxis\":{\"gridcolor\":\"white\",\"linecolor\":\"white\",\"ticks\":\"\"},\"baxis\":{\"gridcolor\":\"white\",\"linecolor\":\"white\",\"ticks\":\"\"},\"caxis\":{\"gridcolor\":\"white\",\"linecolor\":\"white\",\"ticks\":\"\"}},\"coloraxis\":{\"colorbar\":{\"outlinewidth\":0,\"ticks\":\"\"}},\"colorscale\":{\"sequential\":[[0.0,\"#0d0887\"],[0.1111111111111111,\"#46039f\"],[0.2222222222222222,\"#7201a8\"],[0.3333333333333333,\"#9c179e\"],[0.4444444444444444,\"#bd3786\"],[0.5555555555555556,\"#d8576b\"],[0.6666666666666666,\"#ed7953\"],[0.7777777777777778,\"#fb9f3a\"],[0.8888888888888888,\"#fdca26\"],[1.0,\"#f0f921\"]],\"sequentialminus\":[[0.0,\"#0d0887\"],[0.1111111111111111,\"#46039f\"],[0.2222222222222222,\"#7201a8\"],[0.3333333333333333,\"#9c179e\"],[0.4444444444444444,\"#bd3786\"],[0.5555555555555556,\"#d8576b\"],[0.6666666666666666,\"#ed7953\"],[0.7777777777777778,\"#fb9f3a\"],[0.8888888888888888,\"#fdca26\"],[1.0,\"#f0f921\"]],\"diverging\":[[0,\"#8e0152\"],[0.1,\"#c51b7d\"],[0.2,\"#de77ae\"],[0.3,\"#f1b6da\"],[0.4,\"#fde0ef\"],[0.5,\"#f7f7f7\"],[0.6,\"#e6f5d0\"],[0.7,\"#b8e186\"],[0.8,\"#7fbc41\"],[0.9,\"#4d9221\"],[1,\"#276419\"]]},\"xaxis\":{\"gridcolor\":\"white\",\"linecolor\":\"white\",\"ticks\":\"\",\"title\":{\"standoff\":15},\"zerolinecolor\":\"white\",\"automargin\":true,\"zerolinewidth\":2},\"yaxis\":{\"gridcolor\":\"white\",\"linecolor\":\"white\",\"ticks\":\"\",\"title\":{\"standoff\":15},\"zerolinecolor\":\"white\",\"automargin\":true,\"zerolinewidth\":2},\"scene\":{\"xaxis\":{\"backgroundcolor\":\"#E5ECF6\",\"gridcolor\":\"white\",\"linecolor\":\"white\",\"showbackground\":true,\"ticks\":\"\",\"zerolinecolor\":\"white\",\"gridwidth\":2},\"yaxis\":{\"backgroundcolor\":\"#E5ECF6\",\"gridcolor\":\"white\",\"linecolor\":\"white\",\"showbackground\":true,\"ticks\":\"\",\"zerolinecolor\":\"white\",\"gridwidth\":2},\"zaxis\":{\"backgroundcolor\":\"#E5ECF6\",\"gridcolor\":\"white\",\"linecolor\":\"white\",\"showbackground\":true,\"ticks\":\"\",\"zerolinecolor\":\"white\",\"gridwidth\":2}},\"shapedefaults\":{\"line\":{\"color\":\"#2a3f5f\"}},\"annotationdefaults\":{\"arrowcolor\":\"#2a3f5f\",\"arrowhead\":0,\"arrowwidth\":1},\"geo\":{\"bgcolor\":\"white\",\"landcolor\":\"#E5ECF6\",\"subunitcolor\":\"white\",\"showland\":true,\"showlakes\":true,\"lakecolor\":\"white\"},\"title\":{\"x\":0.05},\"mapbox\":{\"style\":\"light\"}}},\"geo\":{\"domain\":{\"x\":[0.0,1.0],\"y\":[0.0,1.0]},\"center\":{},\"scope\":\"usa\"},\"coloraxis\":{\"colorbar\":{\"title\":{\"text\":\"count\"}},\"colorscale\":[[0.0,\"#0d0887\"],[0.1111111111111111,\"#46039f\"],[0.2222222222222222,\"#7201a8\"],[0.3333333333333333,\"#9c179e\"],[0.4444444444444444,\"#bd3786\"],[0.5555555555555556,\"#d8576b\"],[0.6666666666666666,\"#ed7953\"],[0.7777777777777778,\"#fb9f3a\"],[0.8888888888888888,\"#fdca26\"],[1.0,\"#f0f921\"]]},\"legend\":{\"tracegroupgap\":0},\"title\":{\"text\":\"Number of Companies by State\"}},                        {\"responsive\": true}                    ).then(function(){\n",
       "                            \n",
       "var gd = document.getElementById('c085c08a-2fd3-47cd-84ae-e3fa24ab063a');\n",
       "var x = new MutationObserver(function (mutations, observer) {{\n",
       "        var display = window.getComputedStyle(gd).display;\n",
       "        if (!display || display === 'none') {{\n",
       "            console.log([gd, 'removed!']);\n",
       "            Plotly.purge(gd);\n",
       "            observer.disconnect();\n",
       "        }}\n",
       "}});\n",
       "\n",
       "// Listen for the removal of the full notebook cells\n",
       "var notebookContainer = gd.closest('#notebook-container');\n",
       "if (notebookContainer) {{\n",
       "    x.observe(notebookContainer, {childList: true});\n",
       "}}\n",
       "\n",
       "// Listen for the clearing of the current output cell\n",
       "var outputEl = gd.closest('.output');\n",
       "if (outputEl) {{\n",
       "    x.observe(outputEl, {childList: true});\n",
       "}}\n",
       "\n",
       "                        })                };                            </script>        </div>\n",
       "</body>\n",
       "</html>"
      ]
     },
     "metadata": {},
     "output_type": "display_data"
    }
   ],
   "source": [
    "state_counts = df['state'].value_counts().reset_index()\n",
    "state_counts.columns = ['state', 'count']\n",
    "\n",
    "fig = px.choropleth(state_counts, locationmode=\"USA-states\", locations=\"state\", color=\"count\",\n",
    "                    scope=\"usa\", title='Number of Companies by State')\n",
    "fig.show()\n"
   ]
  },
  {
   "cell_type": "markdown",
   "id": "ff4bb141",
   "metadata": {
    "papermill": {
     "duration": 0.014371,
     "end_time": "2025-06-13T08:15:29.567740",
     "exception": false,
     "start_time": "2025-06-13T08:15:29.553369",
     "status": "completed"
    },
    "tags": []
   },
   "source": [
    "##### California has the highest number of companies, likely due to its strong tech presence and startup ecosystem. Texas and Florida also show high business activity, benefiting from large populations and business-friendly policies. States in the Midwest and Mountain regions have fewer companies, possibly due to lower urbanization. Overall, companies are concentrated in coastal and southern states with strong economic infrastructure.\n",
    "\n"
   ]
  },
  {
   "cell_type": "markdown",
   "id": "db2dcc28",
   "metadata": {
    "papermill": {
     "duration": 0.014355,
     "end_time": "2025-06-13T08:15:29.600617",
     "exception": false,
     "start_time": "2025-06-13T08:15:29.586262",
     "status": "completed"
    },
    "tags": []
   },
   "source": [
    "### 4. Which industries has largest growth rate"
   ]
  },
  {
   "cell_type": "code",
   "execution_count": 35,
   "id": "0ffbbefe",
   "metadata": {
    "execution": {
     "iopub.execute_input": "2025-06-13T08:15:29.629925Z",
     "iopub.status.busy": "2025-06-13T08:15:29.629666Z",
     "iopub.status.idle": "2025-06-13T08:15:29.635179Z",
     "shell.execute_reply": "2025-06-13T08:15:29.634305Z"
    },
    "papermill": {
     "duration": 0.021706,
     "end_time": "2025-06-13T08:15:29.636499",
     "exception": false,
     "start_time": "2025-06-13T08:15:29.614793",
     "status": "completed"
    },
    "tags": []
   },
   "outputs": [],
   "source": [
    "largest_growth = df.groupby('industry')['growth_%'].mean().sort_values(ascending = False)"
   ]
  },
  {
   "cell_type": "code",
   "execution_count": 36,
   "id": "f4e7617e",
   "metadata": {
    "execution": {
     "iopub.execute_input": "2025-06-13T08:15:29.667108Z",
     "iopub.status.busy": "2025-06-13T08:15:29.666892Z",
     "iopub.status.idle": "2025-06-13T08:15:29.672093Z",
     "shell.execute_reply": "2025-06-13T08:15:29.671582Z"
    },
    "papermill": {
     "duration": 0.022412,
     "end_time": "2025-06-13T08:15:29.673036",
     "exception": false,
     "start_time": "2025-06-13T08:15:29.650624",
     "status": "completed"
    },
    "tags": []
   },
   "outputs": [
    {
     "data": {
      "text/plain": [
       "industry\n",
       "Logistics & Transportation      717.563346\n",
       "Consumer Products & Services    685.640300\n",
       "Food & Beverage                 668.225534\n",
       "Computer Hardware               651.975244\n",
       "Energy                          592.075591\n",
       "Retail                          584.823802\n",
       "Health                          546.911881\n",
       "Software                        524.673761\n",
       "Telecommunications              515.411890\n",
       "Security                        490.193593\n",
       "Advertising & Marketing         486.685136\n",
       "Government Services             485.308360\n",
       "Environmental Services          458.554665\n",
       "Financial Services              423.942329\n",
       "Real Estate                     417.554633\n",
       "Media                           413.729200\n",
       "IT System Development           385.909106\n",
       "Education                       384.560157\n",
       "Construction                    358.093255\n",
       "Travel & Hospitality            346.417214\n",
       "Manufacturing                   333.701503\n",
       "Business Products & Services    313.472373\n",
       "Insurance                       306.150356\n",
       "Human Resources                 288.708354\n",
       "IT Management                   275.364626\n",
       "Engineering                     222.757926\n",
       "IT Services                      70.583881\n",
       "Name: growth_%, dtype: float64"
      ]
     },
     "execution_count": 36,
     "metadata": {},
     "output_type": "execute_result"
    }
   ],
   "source": [
    "largest_growth"
   ]
  },
  {
   "cell_type": "code",
   "execution_count": 37,
   "id": "70d959db",
   "metadata": {
    "execution": {
     "iopub.execute_input": "2025-06-13T08:15:29.704117Z",
     "iopub.status.busy": "2025-06-13T08:15:29.703602Z",
     "iopub.status.idle": "2025-06-13T08:15:30.022408Z",
     "shell.execute_reply": "2025-06-13T08:15:30.021674Z"
    },
    "papermill": {
     "duration": 0.335064,
     "end_time": "2025-06-13T08:15:30.024050",
     "exception": false,
     "start_time": "2025-06-13T08:15:29.688986",
     "status": "completed"
    },
    "tags": []
   },
   "outputs": [
    {
     "data": {
      "image/png": "[encoded data removed]",
      "text/plain": [
       "<Figure size 1200x800 with 1 Axes>"
      ]
     },
     "metadata": {},
     "output_type": "display_data"
    }
   ],
   "source": [
    "industry_growth = df.groupby('industry')['growth_%'].mean().sort_values()\n",
    "\n",
    "plt.figure(figsize=(12,8))\n",
    "plt.barh(industry_growth.index, industry_growth.values , color = '#d64161')\n",
    "plt.title('Average Growth Rate by Industry', fontsize=16)\n",
    "plt.xlabel('Average Growth Rate (%)', fontsize=14)\n",
    "plt.ylabel('Industry', fontsize=14)\n",
    "plt.show()"
   ]
  },
  {
   "cell_type": "markdown",
   "id": "26dcb98f",
   "metadata": {
    "papermill": {
     "duration": 0.015741,
     "end_time": "2025-06-13T08:15:30.056776",
     "exception": false,
     "start_time": "2025-06-13T08:15:30.041035",
     "status": "completed"
    },
    "tags": []
   },
   "source": [
    "#### From the top 10 industries with the largest average growth rate, we can see that , Logistics & Transportation sector leads with an impressive average growth rate of around 720%, indicating a significant surge in demand and operational expansion. This is closely followed by Consumer Products & Services (690%) and Food & Beverage (670%), showcasing strong market performance and consumer-driven growth. Other industries with growth rates above 600% include Computer Hardware, Energy, and Retail, which reflects the rising importance of tech infrastructure and energy consumption. Additionally, industries like Health, Software, Telecommunications, and Security have maintained growth rates above 500%, highlighting ongoing advancements and digital transformation. These sectors are benefiting from innovation, increasing public demand, and global market shifts. On the other hand, industries such as IT Services and Engineering show comparatively lower growth, suggesting a more stable or mature market. Overall, this analysis is highly valuable for investors, entrepreneurs, and policymakers aiming to focus on industries with the highest potential for return and expansion."
   ]
  },
  {
   "cell_type": "markdown",
   "id": "fe7eb911",
   "metadata": {
    "papermill": {
     "duration": 0.015441,
     "end_time": "2025-06-13T08:15:30.087685",
     "exception": false,
     "start_time": "2025-06-13T08:15:30.072244",
     "status": "completed"
    },
    "tags": []
   },
   "source": [
    "### 5.Which companies had the largest increase in staff/new hires?"
   ]
  },
  {
   "cell_type": "code",
   "execution_count": 38,
   "id": "d1adb1eb",
   "metadata": {
    "execution": {
     "iopub.execute_input": "2025-06-13T08:15:30.119916Z",
     "iopub.status.busy": "2025-06-13T08:15:30.119661Z",
     "iopub.status.idle": "2025-06-13T08:15:30.123917Z",
     "shell.execute_reply": "2025-06-13T08:15:30.123257Z"
    },
    "papermill": {
     "duration": 0.021872,
     "end_time": "2025-06-13T08:15:30.125030",
     "exception": false,
     "start_time": "2025-06-13T08:15:30.103158",
     "status": "completed"
    },
    "tags": []
   },
   "outputs": [],
   "source": [
    "df['New_Hire'] = df['workers']- df['previous_workers']"
   ]
  },
  {
   "cell_type": "code",
   "execution_count": 39,
   "id": "ace3cd7f",
   "metadata": {
    "execution": {
     "iopub.execute_input": "2025-06-13T08:15:30.156404Z",
     "iopub.status.busy": "2025-06-13T08:15:30.156201Z",
     "iopub.status.idle": "2025-06-13T08:15:30.161434Z",
     "shell.execute_reply": "2025-06-13T08:15:30.160913Z"
    },
    "papermill": {
     "duration": 0.022099,
     "end_time": "2025-06-13T08:15:30.162529",
     "exception": false,
     "start_time": "2025-06-13T08:15:30.140430",
     "status": "completed"
    },
    "tags": []
   },
   "outputs": [],
   "source": [
    "largest_new_hires = df[['name', 'industry', 'New_Hire']].sort_values(by='New_Hire', ascending=False).head(10)"
   ]
  },
  {
   "cell_type": "code",
   "execution_count": 40,
   "id": "8df60ed7",
   "metadata": {
    "execution": {
     "iopub.execute_input": "2025-06-13T08:15:30.194118Z",
     "iopub.status.busy": "2025-06-13T08:15:30.193908Z",
     "iopub.status.idle": "2025-06-13T08:15:30.201051Z",
     "shell.execute_reply": "2025-06-13T08:15:30.200497Z"
    },
    "papermill": {
     "duration": 0.02402,
     "end_time": "2025-06-13T08:15:30.202095",
     "exception": false,
     "start_time": "2025-06-13T08:15:30.178075",
     "status": "completed"
    },
    "tags": []
   },
   "outputs": [
    {
     "data": {
      "text/html": [
       "<div>\n",
       "<style scoped>\n",
       "    .dataframe tbody tr th:only-of-type {\n",
       "        vertical-align: middle;\n",
       "    }\n",
       "\n",
       "    .dataframe tbody tr th {\n",
       "        vertical-align: top;\n",
       "    }\n",
       "\n",
       "    .dataframe thead th {\n",
       "        text-align: right;\n",
       "    }\n",
       "</style>\n",
       "<table border=\"1\" class=\"dataframe\">\n",
       "  <thead>\n",
       "    <tr style=\"text-align: right;\">\n",
       "      <th></th>\n",
       "      <th>name</th>\n",
       "      <th>industry</th>\n",
       "      <th>New_Hire</th>\n",
       "    </tr>\n",
       "  </thead>\n",
       "  <tbody>\n",
       "    <tr>\n",
       "      <th>1621</th>\n",
       "      <td>Allied Universal</td>\n",
       "      <td>Security</td>\n",
       "      <td>118531.0</td>\n",
       "    </tr>\n",
       "    <tr>\n",
       "      <th>3752</th>\n",
       "      <td>Alorica</td>\n",
       "      <td>Business Products &amp; Services</td>\n",
       "      <td>43000.0</td>\n",
       "    </tr>\n",
       "    <tr>\n",
       "      <th>3403</th>\n",
       "      <td>Infiniti HR</td>\n",
       "      <td>Human Resources</td>\n",
       "      <td>37145.0</td>\n",
       "    </tr>\n",
       "    <tr>\n",
       "      <th>1336</th>\n",
       "      <td>CircusTrix</td>\n",
       "      <td>Advertising &amp; Marketing</td>\n",
       "      <td>13739.0</td>\n",
       "    </tr>\n",
       "    <tr>\n",
       "      <th>3172</th>\n",
       "      <td>ScribeAmerica</td>\n",
       "      <td>Health</td>\n",
       "      <td>11641.0</td>\n",
       "    </tr>\n",
       "    <tr>\n",
       "      <th>1118</th>\n",
       "      <td>TaskUs</td>\n",
       "      <td>Business Products &amp; Services</td>\n",
       "      <td>9198.0</td>\n",
       "    </tr>\n",
       "    <tr>\n",
       "      <th>4110</th>\n",
       "      <td>Freddy's Frozen Custard</td>\n",
       "      <td>Food &amp; Beverage</td>\n",
       "      <td>6494.0</td>\n",
       "    </tr>\n",
       "    <tr>\n",
       "      <th>427</th>\n",
       "      <td>Pathway Vet Alliance</td>\n",
       "      <td>Health</td>\n",
       "      <td>4174.0</td>\n",
       "    </tr>\n",
       "    <tr>\n",
       "      <th>2927</th>\n",
       "      <td>Four Foods Group</td>\n",
       "      <td>Food &amp; Beverage</td>\n",
       "      <td>3500.0</td>\n",
       "    </tr>\n",
       "    <tr>\n",
       "      <th>4985</th>\n",
       "      <td>Pacific Dental Services</td>\n",
       "      <td>Health</td>\n",
       "      <td>3356.0</td>\n",
       "    </tr>\n",
       "  </tbody>\n",
       "</table>\n",
       "</div>"
      ],
      "text/plain": [
       "                         name                      industry  New_Hire\n",
       "1621         Allied Universal                      Security  118531.0\n",
       "3752                  Alorica  Business Products & Services   43000.0\n",
       "3403              Infiniti HR               Human Resources   37145.0\n",
       "1336               CircusTrix       Advertising & Marketing   13739.0\n",
       "3172            ScribeAmerica                        Health   11641.0\n",
       "1118                   TaskUs  Business Products & Services    9198.0\n",
       "4110  Freddy's Frozen Custard               Food & Beverage    6494.0\n",
       "427      Pathway Vet Alliance                        Health    4174.0\n",
       "2927         Four Foods Group               Food & Beverage    3500.0\n",
       "4985  Pacific Dental Services                        Health    3356.0"
      ]
     },
     "execution_count": 40,
     "metadata": {},
     "output_type": "execute_result"
    }
   ],
   "source": [
    "largest_new_hires"
   ]
  },
  {
   "cell_type": "code",
   "execution_count": 41,
   "id": "b1a5f86f",
   "metadata": {
    "execution": {
     "iopub.execute_input": "2025-06-13T08:15:30.234132Z",
     "iopub.status.busy": "2025-06-13T08:15:30.233929Z",
     "iopub.status.idle": "2025-06-13T08:15:30.415274Z",
     "shell.execute_reply": "2025-06-13T08:15:30.414535Z"
    },
    "papermill": {
     "duration": 0.198743,
     "end_time": "2025-06-13T08:15:30.416533",
     "exception": false,
     "start_time": "2025-06-13T08:15:30.217790",
     "status": "completed"
    },
    "tags": []
   },
   "outputs": [
    {
     "data": {
      "image/png": "[encoded data removed]",
      "text/plain": [
       "<Figure size 640x480 with 1 Axes>"
      ]
     },
     "metadata": {},
     "output_type": "display_data"
    }
   ],
   "source": [
    "worker_changes = df.groupby('name')['workers'].max() - df.groupby('name')['previous_workers'].max()\n",
    "worker_changes = worker_changes.sort_values(ascending=False)[:10]\n",
    "\n",
    "\n",
    "plt.bar(worker_changes.index, worker_changes.values, color=['#d700ff', '#c100e5', '#ac00cc', '#9600b2', '#810099',\n",
    "                                                           '#6b007f', '#560066', '#40004c', '#2b0033', '#150019'])\n",
    "\n",
    "plt.xticks(rotation=90)\n",
    "plt.xlabel('Company')\n",
    "plt.ylabel('Increase in Workers')\n",
    "plt.title('Top 10 Companies with Largest Increase in Staff/New Hires')\n",
    "plt.show()\n"
   ]
  },
  {
   "cell_type": "markdown",
   "id": "a7e964db",
   "metadata": {
    "papermill": {
     "duration": 0.01643,
     "end_time": "2025-06-13T08:15:30.451726",
     "exception": false,
     "start_time": "2025-06-13T08:15:30.435296",
     "status": "completed"
    },
    "tags": []
   },
   "source": [
    "#### The Allied Universal had the largest increase in staff/new hires among all the companies in the dataset with 118531 new hires.\n",
    "\n",
    "#### The Security industry seems to have the highest new hires on average, with two Security companies appearing in the top 10 list."
   ]
  },
  {
   "cell_type": "markdown",
   "id": "6b73c9db",
   "metadata": {
    "papermill": {
     "duration": 0.016475,
     "end_time": "2025-06-13T08:15:30.484741",
     "exception": false,
     "start_time": "2025-06-13T08:15:30.468266",
     "status": "completed"
    },
    "tags": []
   },
   "source": [
    "### Top 5 and Bottom 5 - Companies(based on revenue)"
   ]
  },
  {
   "cell_type": "code",
   "execution_count": 42,
   "id": "cbe3e5ea",
   "metadata": {
    "execution": {
     "iopub.execute_input": "2025-06-13T08:15:30.519450Z",
     "iopub.status.busy": "2025-06-13T08:15:30.519243Z",
     "iopub.status.idle": "2025-06-13T08:15:30.525275Z",
     "shell.execute_reply": "2025-06-13T08:15:30.524748Z"
    },
    "papermill": {
     "duration": 0.024405,
     "end_time": "2025-06-13T08:15:30.526416",
     "exception": false,
     "start_time": "2025-06-13T08:15:30.502011",
     "status": "completed"
    },
    "tags": []
   },
   "outputs": [],
   "source": [
    "df_sorted = df.sort_values(by=['revenue', 'New_Hire'], ascending=[False, False])\n"
   ]
  },
  {
   "cell_type": "code",
   "execution_count": 43,
   "id": "f3301a98",
   "metadata": {
    "execution": {
     "iopub.execute_input": "2025-06-13T08:15:30.561422Z",
     "iopub.status.busy": "2025-06-13T08:15:30.561218Z",
     "iopub.status.idle": "2025-06-13T08:15:30.572562Z",
     "shell.execute_reply": "2025-06-13T08:15:30.572070Z"
    },
    "papermill": {
     "duration": 0.029421,
     "end_time": "2025-06-13T08:15:30.573456",
     "exception": false,
     "start_time": "2025-06-13T08:15:30.544035",
     "status": "completed"
    },
    "tags": []
   },
   "outputs": [
    {
     "data": {
      "text/html": [
       "<div>\n",
       "<style scoped>\n",
       "    .dataframe tbody tr th:only-of-type {\n",
       "        vertical-align: middle;\n",
       "    }\n",
       "\n",
       "    .dataframe tbody tr th {\n",
       "        vertical-align: top;\n",
       "    }\n",
       "\n",
       "    .dataframe thead th {\n",
       "        text-align: right;\n",
       "    }\n",
       "</style>\n",
       "<table border=\"1\" class=\"dataframe\">\n",
       "  <thead>\n",
       "    <tr style=\"text-align: right;\">\n",
       "      <th></th>\n",
       "      <th>rank</th>\n",
       "      <th>profile</th>\n",
       "      <th>name</th>\n",
       "      <th>url</th>\n",
       "      <th>state</th>\n",
       "      <th>revenue</th>\n",
       "      <th>growth_%</th>\n",
       "      <th>industry</th>\n",
       "      <th>workers</th>\n",
       "      <th>previous_workers</th>\n",
       "      <th>founded</th>\n",
       "      <th>yrs_on_list</th>\n",
       "      <th>metro</th>\n",
       "      <th>city</th>\n",
       "      <th>New_Hire</th>\n",
       "    </tr>\n",
       "  </thead>\n",
       "  <tbody>\n",
       "    <tr>\n",
       "      <th>1076</th>\n",
       "      <td>1073</td>\n",
       "      <td>https://www.inc.com/profile/prime-therapeutics</td>\n",
       "      <td>Prime Therapeutics</td>\n",
       "      <td>http://primetherapeutics.com</td>\n",
       "      <td>MN</td>\n",
       "      <td>21400.0</td>\n",
       "      <td>390.5654</td>\n",
       "      <td>Health</td>\n",
       "      <td>3300.0</td>\n",
       "      <td>3900</td>\n",
       "      <td>1998</td>\n",
       "      <td>8</td>\n",
       "      <td>Minneapolis</td>\n",
       "      <td>Eagan</td>\n",
       "      <td>-600.0</td>\n",
       "    </tr>\n",
       "    <tr>\n",
       "      <th>914</th>\n",
       "      <td>913</td>\n",
       "      <td>https://www.inc.com/profile/uber-technologies</td>\n",
       "      <td>Uber Technologies</td>\n",
       "      <td>http://uber.com/ca/en</td>\n",
       "      <td>CA</td>\n",
       "      <td>11300.0</td>\n",
       "      <td>464.9123</td>\n",
       "      <td>Consumer Products &amp; Services</td>\n",
       "      <td>22263.0</td>\n",
       "      <td>22263</td>\n",
       "      <td>2009</td>\n",
       "      <td>1</td>\n",
       "      <td>San Francisco</td>\n",
       "      <td>San Francisco</td>\n",
       "      <td>0.0</td>\n",
       "    </tr>\n",
       "    <tr>\n",
       "      <th>1621</th>\n",
       "      <td>1617</td>\n",
       "      <td>https://www.inc.com/profile/allied-universal</td>\n",
       "      <td>Allied Universal</td>\n",
       "      <td>http://aus.com</td>\n",
       "      <td>CA</td>\n",
       "      <td>5800.0</td>\n",
       "      <td>255.1902</td>\n",
       "      <td>Security</td>\n",
       "      <td>155000.0</td>\n",
       "      <td>36469</td>\n",
       "      <td>1957</td>\n",
       "      <td>10</td>\n",
       "      <td>Los Angeles</td>\n",
       "      <td>Santa Ana</td>\n",
       "      <td>118531.0</td>\n",
       "    </tr>\n",
       "    <tr>\n",
       "      <th>3856</th>\n",
       "      <td>3847</td>\n",
       "      <td>https://www.inc.com/profile/carahsoft-technology</td>\n",
       "      <td>Carahsoft Technology</td>\n",
       "      <td>http://carahsoft.com</td>\n",
       "      <td>VA</td>\n",
       "      <td>5400.0</td>\n",
       "      <td>86.5174</td>\n",
       "      <td>Government Services</td>\n",
       "      <td>1000.0</td>\n",
       "      <td>538</td>\n",
       "      <td>2004</td>\n",
       "      <td>12</td>\n",
       "      <td>Washington, DC</td>\n",
       "      <td>Reston</td>\n",
       "      <td>462.0</td>\n",
       "    </tr>\n",
       "    <tr>\n",
       "      <th>3781</th>\n",
       "      <td>3772</td>\n",
       "      <td>https://www.inc.com/profile/coadvantage</td>\n",
       "      <td>CoAdvantage</td>\n",
       "      <td>coadvantage.com</td>\n",
       "      <td>FL</td>\n",
       "      <td>4600.0</td>\n",
       "      <td>89.1728</td>\n",
       "      <td>Human Resources</td>\n",
       "      <td>410.0</td>\n",
       "      <td>332</td>\n",
       "      <td>1997</td>\n",
       "      <td>4</td>\n",
       "      <td>Tampa</td>\n",
       "      <td>Tampa</td>\n",
       "      <td>78.0</td>\n",
       "    </tr>\n",
       "  </tbody>\n",
       "</table>\n",
       "</div>"
      ],
      "text/plain": [
       "      rank                                           profile  \\\n",
       "1076  1073    https://www.inc.com/profile/prime-therapeutics   \n",
       "914    913     https://www.inc.com/profile/uber-technologies   \n",
       "1621  1617      https://www.inc.com/profile/allied-universal   \n",
       "3856  3847  https://www.inc.com/profile/carahsoft-technology   \n",
       "3781  3772           https://www.inc.com/profile/coadvantage   \n",
       "\n",
       "                      name                           url state  revenue  \\\n",
       "1076    Prime Therapeutics  http://primetherapeutics.com    MN  21400.0   \n",
       "914      Uber Technologies         http://uber.com/ca/en    CA  11300.0   \n",
       "1621      Allied Universal                http://aus.com    CA   5800.0   \n",
       "3856  Carahsoft Technology          http://carahsoft.com    VA   5400.0   \n",
       "3781           CoAdvantage               coadvantage.com    FL   4600.0   \n",
       "\n",
       "      growth_%                      industry   workers  previous_workers  \\\n",
       "1076  390.5654                        Health    3300.0              3900   \n",
       "914   464.9123  Consumer Products & Services   22263.0             22263   \n",
       "1621  255.1902                      Security  155000.0             36469   \n",
       "3856   86.5174           Government Services    1000.0               538   \n",
       "3781   89.1728               Human Resources     410.0               332   \n",
       "\n",
       "      founded  yrs_on_list           metro           city  New_Hire  \n",
       "1076     1998            8     Minneapolis          Eagan    -600.0  \n",
       "914      2009            1   San Francisco  San Francisco       0.0  \n",
       "1621     1957           10     Los Angeles      Santa Ana  118531.0  \n",
       "3856     2004           12  Washington, DC         Reston     462.0  \n",
       "3781     1997            4           Tampa          Tampa      78.0  "
      ]
     },
     "execution_count": 43,
     "metadata": {},
     "output_type": "execute_result"
    }
   ],
   "source": [
    "df_sorted.head(5)"
   ]
  },
  {
   "cell_type": "code",
   "execution_count": 44,
   "id": "ed8a5926",
   "metadata": {
    "execution": {
     "iopub.execute_input": "2025-06-13T08:15:30.607364Z",
     "iopub.status.busy": "2025-06-13T08:15:30.607167Z",
     "iopub.status.idle": "2025-06-13T08:15:30.618486Z",
     "shell.execute_reply": "2025-06-13T08:15:30.617910Z"
    },
    "papermill": {
     "duration": 0.029204,
     "end_time": "2025-06-13T08:15:30.619547",
     "exception": false,
     "start_time": "2025-06-13T08:15:30.590343",
     "status": "completed"
    },
    "tags": []
   },
   "outputs": [
    {
     "data": {
      "text/html": [
       "<div>\n",
       "<style scoped>\n",
       "    .dataframe tbody tr th:only-of-type {\n",
       "        vertical-align: middle;\n",
       "    }\n",
       "\n",
       "    .dataframe tbody tr th {\n",
       "        vertical-align: top;\n",
       "    }\n",
       "\n",
       "    .dataframe thead th {\n",
       "        text-align: right;\n",
       "    }\n",
       "</style>\n",
       "<table border=\"1\" class=\"dataframe\">\n",
       "  <thead>\n",
       "    <tr style=\"text-align: right;\">\n",
       "      <th></th>\n",
       "      <th>rank</th>\n",
       "      <th>profile</th>\n",
       "      <th>name</th>\n",
       "      <th>url</th>\n",
       "      <th>state</th>\n",
       "      <th>revenue</th>\n",
       "      <th>growth_%</th>\n",
       "      <th>industry</th>\n",
       "      <th>workers</th>\n",
       "      <th>previous_workers</th>\n",
       "      <th>founded</th>\n",
       "      <th>yrs_on_list</th>\n",
       "      <th>metro</th>\n",
       "      <th>city</th>\n",
       "      <th>New_Hire</th>\n",
       "    </tr>\n",
       "  </thead>\n",
       "  <tbody>\n",
       "    <tr>\n",
       "      <th>3188</th>\n",
       "      <td>3180</td>\n",
       "      <td>https://www.inc.com/profile/precision-measurem...</td>\n",
       "      <td>Precision Measurement Engineering</td>\n",
       "      <td>pme.com</td>\n",
       "      <td>CA</td>\n",
       "      <td>2.0</td>\n",
       "      <td>115.2009</td>\n",
       "      <td>Environmental Services</td>\n",
       "      <td>11.0</td>\n",
       "      <td>9</td>\n",
       "      <td>1982</td>\n",
       "      <td>1</td>\n",
       "      <td>San Diego</td>\n",
       "      <td>Vista</td>\n",
       "      <td>2.0</td>\n",
       "    </tr>\n",
       "    <tr>\n",
       "      <th>3297</th>\n",
       "      <td>3289</td>\n",
       "      <td>https://www.inc.com/profile/women-rocking-busi...</td>\n",
       "      <td>Women Rocking Business</td>\n",
       "      <td>womenrockingbusiness.com</td>\n",
       "      <td>CA</td>\n",
       "      <td>2.0</td>\n",
       "      <td>109.8185</td>\n",
       "      <td>Business Products &amp; Services</td>\n",
       "      <td>3.0</td>\n",
       "      <td>1</td>\n",
       "      <td>2012</td>\n",
       "      <td>1</td>\n",
       "      <td>Santa Cruz</td>\n",
       "      <td>Santa Cruz</td>\n",
       "      <td>2.0</td>\n",
       "    </tr>\n",
       "    <tr>\n",
       "      <th>4601</th>\n",
       "      <td>4590</td>\n",
       "      <td>https://www.inc.com/profile/sbc-contractors</td>\n",
       "      <td>SBC Contractors</td>\n",
       "      <td>sbccontractors.com</td>\n",
       "      <td>CA</td>\n",
       "      <td>2.0</td>\n",
       "      <td>63.1469</td>\n",
       "      <td>Construction</td>\n",
       "      <td>5.0</td>\n",
       "      <td>4</td>\n",
       "      <td>2003</td>\n",
       "      <td>1</td>\n",
       "      <td>Roseville</td>\n",
       "      <td>Roseville</td>\n",
       "      <td>1.0</td>\n",
       "    </tr>\n",
       "    <tr>\n",
       "      <th>475</th>\n",
       "      <td>475</td>\n",
       "      <td>https://www.inc.com/profile/powerful-professio...</td>\n",
       "      <td>Powerful Professionals</td>\n",
       "      <td>http://powerfulprofessionals.com</td>\n",
       "      <td>GA</td>\n",
       "      <td>2.0</td>\n",
       "      <td>935.0348</td>\n",
       "      <td>Business Products &amp; Services</td>\n",
       "      <td>5.0</td>\n",
       "      <td>13</td>\n",
       "      <td>2001</td>\n",
       "      <td>1</td>\n",
       "      <td>Atlanta</td>\n",
       "      <td>Alpharetta</td>\n",
       "      <td>-8.0</td>\n",
       "    </tr>\n",
       "    <tr>\n",
       "      <th>3302</th>\n",
       "      <td>3294</td>\n",
       "      <td>https://www.inc.com/profile/vennli</td>\n",
       "      <td>Vennli</td>\n",
       "      <td>vennli.com</td>\n",
       "      <td>IN</td>\n",
       "      <td>2.0</td>\n",
       "      <td>109.6291</td>\n",
       "      <td>Software</td>\n",
       "      <td>12.0</td>\n",
       "      <td>21</td>\n",
       "      <td>2013</td>\n",
       "      <td>1</td>\n",
       "      <td>South Bend</td>\n",
       "      <td>South Bend</td>\n",
       "      <td>-9.0</td>\n",
       "    </tr>\n",
       "  </tbody>\n",
       "</table>\n",
       "</div>"
      ],
      "text/plain": [
       "      rank                                            profile  \\\n",
       "3188  3180  https://www.inc.com/profile/precision-measurem...   \n",
       "3297  3289  https://www.inc.com/profile/women-rocking-busi...   \n",
       "4601  4590        https://www.inc.com/profile/sbc-contractors   \n",
       "475    475  https://www.inc.com/profile/powerful-professio...   \n",
       "3302  3294                 https://www.inc.com/profile/vennli   \n",
       "\n",
       "                                   name                               url  \\\n",
       "3188  Precision Measurement Engineering                           pme.com   \n",
       "3297             Women Rocking Business          womenrockingbusiness.com   \n",
       "4601                    SBC Contractors                sbccontractors.com   \n",
       "475              Powerful Professionals  http://powerfulprofessionals.com   \n",
       "3302                             Vennli                        vennli.com   \n",
       "\n",
       "     state  revenue  growth_%                      industry  workers  \\\n",
       "3188    CA      2.0  115.2009        Environmental Services     11.0   \n",
       "3297    CA      2.0  109.8185  Business Products & Services      3.0   \n",
       "4601    CA      2.0   63.1469                  Construction      5.0   \n",
       "475     GA      2.0  935.0348  Business Products & Services      5.0   \n",
       "3302    IN      2.0  109.6291                      Software     12.0   \n",
       "\n",
       "      previous_workers  founded  yrs_on_list       metro        city  New_Hire  \n",
       "3188                 9     1982            1   San Diego       Vista       2.0  \n",
       "3297                 1     2012            1  Santa Cruz  Santa Cruz       2.0  \n",
       "4601                 4     2003            1   Roseville   Roseville       1.0  \n",
       "475                 13     2001            1     Atlanta  Alpharetta      -8.0  \n",
       "3302                21     2013            1  South Bend  South Bend      -9.0  "
      ]
     },
     "execution_count": 44,
     "metadata": {},
     "output_type": "execute_result"
    }
   ],
   "source": [
    "df_sorted.tail(5)"
   ]
  },
  {
   "cell_type": "code",
   "execution_count": null,
   "id": "82ca2b25",
   "metadata": {
    "papermill": {
     "duration": 0.016316,
     "end_time": "2025-06-13T08:15:30.652892",
     "exception": false,
     "start_time": "2025-06-13T08:15:30.636576",
     "status": "completed"
    },
    "tags": []
   },
   "outputs": [],
   "source": []
  },
  {
   "cell_type": "markdown",
   "id": "0f81f1db",
   "metadata": {
    "papermill": {
     "duration": 0.016248,
     "end_time": "2025-06-13T08:15:30.687340",
     "exception": false,
     "start_time": "2025-06-13T08:15:30.671092",
     "status": "completed"
    },
    "tags": []
   },
   "source": [
    "### 6. Did any companies increase revenue while reducing staff"
   ]
  },
  {
   "cell_type": "code",
   "execution_count": 45,
   "id": "766c9aa5",
   "metadata": {
    "execution": {
     "iopub.execute_input": "2025-06-13T08:15:30.721127Z",
     "iopub.status.busy": "2025-06-13T08:15:30.720705Z",
     "iopub.status.idle": "2025-06-13T08:15:30.724329Z",
     "shell.execute_reply": "2025-06-13T08:15:30.723817Z"
    },
    "papermill": {
     "duration": 0.021729,
     "end_time": "2025-06-13T08:15:30.725285",
     "exception": false,
     "start_time": "2025-06-13T08:15:30.703556",
     "status": "completed"
    },
    "tags": []
   },
   "outputs": [],
   "source": [
    "df['staff_change'] = df['workers']- df['previous_workers']"
   ]
  },
  {
   "cell_type": "code",
   "execution_count": 46,
   "id": "a61aee40",
   "metadata": {
    "execution": {
     "iopub.execute_input": "2025-06-13T08:15:30.759795Z",
     "iopub.status.busy": "2025-06-13T08:15:30.759601Z",
     "iopub.status.idle": "2025-06-13T08:15:30.764948Z",
     "shell.execute_reply": "2025-06-13T08:15:30.764389Z"
    },
    "papermill": {
     "duration": 0.023972,
     "end_time": "2025-06-13T08:15:30.766049",
     "exception": false,
     "start_time": "2025-06-13T08:15:30.742077",
     "status": "completed"
    },
    "tags": []
   },
   "outputs": [
    {
     "data": {
      "text/plain": [
       "0        35.0\n",
       "1        31.0\n",
       "2       180.0\n",
       "3        55.0\n",
       "4        19.0\n",
       "        ...  \n",
       "5007     26.0\n",
       "5008    160.0\n",
       "5009     60.0\n",
       "5010     85.0\n",
       "5011      5.0\n",
       "Name: staff_change, Length: 5012, dtype: float64"
      ]
     },
     "execution_count": 46,
     "metadata": {},
     "output_type": "execute_result"
    }
   ],
   "source": [
    "df['staff_change']"
   ]
  },
  {
   "cell_type": "code",
   "execution_count": 47,
   "id": "de1c01d6",
   "metadata": {
    "execution": {
     "iopub.execute_input": "2025-06-13T08:15:30.801480Z",
     "iopub.status.busy": "2025-06-13T08:15:30.801286Z",
     "iopub.status.idle": "2025-06-13T08:15:30.808481Z",
     "shell.execute_reply": "2025-06-13T08:15:30.807614Z"
    },
    "papermill": {
     "duration": 0.026147,
     "end_time": "2025-06-13T08:15:30.809508",
     "exception": false,
     "start_time": "2025-06-13T08:15:30.783361",
     "status": "completed"
    },
    "tags": []
   },
   "outputs": [
    {
     "name": "stderr",
     "output_type": "stream",
     "text": [
      "/usr/local/lib/python3.11/dist-packages/pandas/core/computation/expressions.py:73: RuntimeWarning:\n",
      "\n",
      "invalid value encountered in greater\n",
      "\n"
     ]
    }
   ],
   "source": [
    "df['revenue_difference'] = df['revenue'] - df['revenue'].shift(1)\n",
    "revenue_and_staff = df[(df['staff_change'] < 0) & (df['revenue_difference'] > 0)][['name', 'industry', 'revenue_difference', 'staff_change']]"
   ]
  },
  {
   "cell_type": "code",
   "execution_count": 48,
   "id": "9896cb3e",
   "metadata": {
    "execution": {
     "iopub.execute_input": "2025-06-13T08:15:30.844195Z",
     "iopub.status.busy": "2025-06-13T08:15:30.843996Z",
     "iopub.status.idle": "2025-06-13T08:15:30.858414Z",
     "shell.execute_reply": "2025-06-13T08:15:30.857814Z"
    },
    "papermill": {
     "duration": 0.03294,
     "end_time": "2025-06-13T08:15:30.859529",
     "exception": false,
     "start_time": "2025-06-13T08:15:30.826589",
     "status": "completed"
    },
    "tags": []
   },
   "outputs": [
    {
     "data": {
      "text/html": [
       "<div>\n",
       "<style scoped>\n",
       "    .dataframe tbody tr th:only-of-type {\n",
       "        vertical-align: middle;\n",
       "    }\n",
       "\n",
       "    .dataframe tbody tr th {\n",
       "        vertical-align: top;\n",
       "    }\n",
       "\n",
       "    .dataframe thead th {\n",
       "        text-align: right;\n",
       "    }\n",
       "</style>\n",
       "<table border=\"1\" class=\"dataframe\">\n",
       "  <thead>\n",
       "    <tr style=\"text-align: right;\">\n",
       "      <th></th>\n",
       "      <th>name</th>\n",
       "      <th>industry</th>\n",
       "      <th>revenue_difference</th>\n",
       "      <th>staff_change</th>\n",
       "    </tr>\n",
       "  </thead>\n",
       "  <tbody>\n",
       "    <tr>\n",
       "      <th>361</th>\n",
       "      <td>AdFicient</td>\n",
       "      <td>Advertising &amp; Marketing</td>\n",
       "      <td>3.8</td>\n",
       "      <td>-1.0</td>\n",
       "    </tr>\n",
       "    <tr>\n",
       "      <th>525</th>\n",
       "      <td>Quantico Tactical</td>\n",
       "      <td>Government Services</td>\n",
       "      <td>475.0</td>\n",
       "      <td>-43.0</td>\n",
       "    </tr>\n",
       "    <tr>\n",
       "      <th>1076</th>\n",
       "      <td>Prime Therapeutics</td>\n",
       "      <td>Health</td>\n",
       "      <td>21385.5</td>\n",
       "      <td>-600.0</td>\n",
       "    </tr>\n",
       "    <tr>\n",
       "      <th>1159</th>\n",
       "      <td>WealthForge</td>\n",
       "      <td>Financial Services</td>\n",
       "      <td>13.3</td>\n",
       "      <td>-15.0</td>\n",
       "    </tr>\n",
       "    <tr>\n",
       "      <th>1163</th>\n",
       "      <td>Catalyst Outdoor</td>\n",
       "      <td>Advertising &amp; Marketing</td>\n",
       "      <td>13.6</td>\n",
       "      <td>-5.0</td>\n",
       "    </tr>\n",
       "    <tr>\n",
       "      <th>1602</th>\n",
       "      <td>Taulia</td>\n",
       "      <td>Software</td>\n",
       "      <td>39.9</td>\n",
       "      <td>-22.0</td>\n",
       "    </tr>\n",
       "    <tr>\n",
       "      <th>1671</th>\n",
       "      <td>IT Authorities</td>\n",
       "      <td>IT Management</td>\n",
       "      <td>5.8</td>\n",
       "      <td>-10.0</td>\n",
       "    </tr>\n",
       "    <tr>\n",
       "      <th>1732</th>\n",
       "      <td>Zentra</td>\n",
       "      <td>Retail</td>\n",
       "      <td>19.6</td>\n",
       "      <td>-6.0</td>\n",
       "    </tr>\n",
       "    <tr>\n",
       "      <th>1741</th>\n",
       "      <td>Worth Clark Realty</td>\n",
       "      <td>Real Estate</td>\n",
       "      <td>14.9</td>\n",
       "      <td>-2.0</td>\n",
       "    </tr>\n",
       "    <tr>\n",
       "      <th>1833</th>\n",
       "      <td>Perfect Snacks</td>\n",
       "      <td>Food &amp; Beverage</td>\n",
       "      <td>57.6</td>\n",
       "      <td>-16.0</td>\n",
       "    </tr>\n",
       "    <tr>\n",
       "      <th>1973</th>\n",
       "      <td>Synapse Business Systems</td>\n",
       "      <td>IT Management</td>\n",
       "      <td>0.3</td>\n",
       "      <td>-4.0</td>\n",
       "    </tr>\n",
       "    <tr>\n",
       "      <th>2026</th>\n",
       "      <td>CloudSmartz</td>\n",
       "      <td>IT Management</td>\n",
       "      <td>10.6</td>\n",
       "      <td>-1.0</td>\n",
       "    </tr>\n",
       "    <tr>\n",
       "      <th>2054</th>\n",
       "      <td>Benton Roofing</td>\n",
       "      <td>Construction</td>\n",
       "      <td>19.1</td>\n",
       "      <td>-1.0</td>\n",
       "    </tr>\n",
       "    <tr>\n",
       "      <th>2715</th>\n",
       "      <td>NCWC</td>\n",
       "      <td>Advertising &amp; Marketing</td>\n",
       "      <td>193.1</td>\n",
       "      <td>-71.0</td>\n",
       "    </tr>\n",
       "    <tr>\n",
       "      <th>2759</th>\n",
       "      <td>Touchstone Merchandise Group</td>\n",
       "      <td>Consumer Products &amp; Services</td>\n",
       "      <td>39.6</td>\n",
       "      <td>-3.0</td>\n",
       "    </tr>\n",
       "    <tr>\n",
       "      <th>2955</th>\n",
       "      <td>Buzz Franchise Brands</td>\n",
       "      <td>Consumer Products &amp; Services</td>\n",
       "      <td>12.5</td>\n",
       "      <td>-28.0</td>\n",
       "    </tr>\n",
       "    <tr>\n",
       "      <th>3180</th>\n",
       "      <td>Systems Integration</td>\n",
       "      <td>IT Management</td>\n",
       "      <td>21.0</td>\n",
       "      <td>-6.0</td>\n",
       "    </tr>\n",
       "    <tr>\n",
       "      <th>3533</th>\n",
       "      <td>Metronome</td>\n",
       "      <td>Government Services</td>\n",
       "      <td>15.0</td>\n",
       "      <td>-8.0</td>\n",
       "    </tr>\n",
       "    <tr>\n",
       "      <th>3541</th>\n",
       "      <td>49er Communications</td>\n",
       "      <td>Telecommunications</td>\n",
       "      <td>2.2</td>\n",
       "      <td>-2.0</td>\n",
       "    </tr>\n",
       "    <tr>\n",
       "      <th>3573</th>\n",
       "      <td>Enhanced Veterans Solutions</td>\n",
       "      <td>Government Services</td>\n",
       "      <td>6.0</td>\n",
       "      <td>-8.0</td>\n",
       "    </tr>\n",
       "    <tr>\n",
       "      <th>3579</th>\n",
       "      <td>Coranet</td>\n",
       "      <td>Telecommunications</td>\n",
       "      <td>79.6</td>\n",
       "      <td>-7.0</td>\n",
       "    </tr>\n",
       "    <tr>\n",
       "      <th>3611</th>\n",
       "      <td>5</td>\n",
       "      <td>Energy</td>\n",
       "      <td>3.4</td>\n",
       "      <td>-3.0</td>\n",
       "    </tr>\n",
       "    <tr>\n",
       "      <th>3622</th>\n",
       "      <td>FNB Merchants</td>\n",
       "      <td>Financial Services</td>\n",
       "      <td>6.1</td>\n",
       "      <td>-4.0</td>\n",
       "    </tr>\n",
       "    <tr>\n",
       "      <th>3627</th>\n",
       "      <td>Zefr</td>\n",
       "      <td>Advertising &amp; Marketing</td>\n",
       "      <td>60.5</td>\n",
       "      <td>-86.0</td>\n",
       "    </tr>\n",
       "    <tr>\n",
       "      <th>3799</th>\n",
       "      <td>Cuddle Clones</td>\n",
       "      <td>Consumer Products &amp; Services</td>\n",
       "      <td>1.2</td>\n",
       "      <td>-1.0</td>\n",
       "    </tr>\n",
       "    <tr>\n",
       "      <th>3992</th>\n",
       "      <td>Adapture</td>\n",
       "      <td>IT Services</td>\n",
       "      <td>35.8</td>\n",
       "      <td>-2.0</td>\n",
       "    </tr>\n",
       "    <tr>\n",
       "      <th>4059</th>\n",
       "      <td>AEC Group</td>\n",
       "      <td>IT Services</td>\n",
       "      <td>93.1</td>\n",
       "      <td>-4.0</td>\n",
       "    </tr>\n",
       "    <tr>\n",
       "      <th>4136</th>\n",
       "      <td>First American Payment Systems</td>\n",
       "      <td>Financial Services</td>\n",
       "      <td>657.7</td>\n",
       "      <td>-243.0</td>\n",
       "    </tr>\n",
       "    <tr>\n",
       "      <th>4146</th>\n",
       "      <td>Creditsafe USA</td>\n",
       "      <td>Business Products &amp; Services</td>\n",
       "      <td>8.4</td>\n",
       "      <td>-11.0</td>\n",
       "    </tr>\n",
       "    <tr>\n",
       "      <th>4150</th>\n",
       "      <td>Blueberry Builders</td>\n",
       "      <td>Construction</td>\n",
       "      <td>5.5</td>\n",
       "      <td>-8.0</td>\n",
       "    </tr>\n",
       "    <tr>\n",
       "      <th>4153</th>\n",
       "      <td>Centrify</td>\n",
       "      <td>Software</td>\n",
       "      <td>110.5</td>\n",
       "      <td>-127.0</td>\n",
       "    </tr>\n",
       "    <tr>\n",
       "      <th>4167</th>\n",
       "      <td>CommerceIQ</td>\n",
       "      <td>Software</td>\n",
       "      <td>6.6</td>\n",
       "      <td>-22.0</td>\n",
       "    </tr>\n",
       "    <tr>\n",
       "      <th>4187</th>\n",
       "      <td>TapClassifieds Auto</td>\n",
       "      <td>Advertising &amp; Marketing</td>\n",
       "      <td>0.4</td>\n",
       "      <td>-5.0</td>\n",
       "    </tr>\n",
       "    <tr>\n",
       "      <th>4258</th>\n",
       "      <td>SBS CyberSecurity</td>\n",
       "      <td>Financial Services</td>\n",
       "      <td>6.9</td>\n",
       "      <td>-1.0</td>\n",
       "    </tr>\n",
       "    <tr>\n",
       "      <th>4265</th>\n",
       "      <td>GMF Steel Group</td>\n",
       "      <td>Construction</td>\n",
       "      <td>4.9</td>\n",
       "      <td>-4.0</td>\n",
       "    </tr>\n",
       "    <tr>\n",
       "      <th>4270</th>\n",
       "      <td>Integrity Services</td>\n",
       "      <td>Business Products &amp; Services</td>\n",
       "      <td>16.0</td>\n",
       "      <td>-150.0</td>\n",
       "    </tr>\n",
       "    <tr>\n",
       "      <th>4290</th>\n",
       "      <td>JazzHR</td>\n",
       "      <td>Software</td>\n",
       "      <td>3.5</td>\n",
       "      <td>-8.0</td>\n",
       "    </tr>\n",
       "    <tr>\n",
       "      <th>4367</th>\n",
       "      <td>Republic Bank of Chicago</td>\n",
       "      <td>Financial Services</td>\n",
       "      <td>97.3</td>\n",
       "      <td>-4.0</td>\n",
       "    </tr>\n",
       "    <tr>\n",
       "      <th>4409</th>\n",
       "      <td>Akorbi</td>\n",
       "      <td>Business Products &amp; Services</td>\n",
       "      <td>34.3</td>\n",
       "      <td>-300.0</td>\n",
       "    </tr>\n",
       "    <tr>\n",
       "      <th>4433</th>\n",
       "      <td>Momentum Telecom</td>\n",
       "      <td>Telecommunications</td>\n",
       "      <td>93.3</td>\n",
       "      <td>-11.0</td>\n",
       "    </tr>\n",
       "    <tr>\n",
       "      <th>4533</th>\n",
       "      <td>Right Height Manufacturing</td>\n",
       "      <td>Manufacturing</td>\n",
       "      <td>1.8</td>\n",
       "      <td>-3.0</td>\n",
       "    </tr>\n",
       "    <tr>\n",
       "      <th>4540</th>\n",
       "      <td>Myriad360</td>\n",
       "      <td>IT Management</td>\n",
       "      <td>132.5</td>\n",
       "      <td>-3.0</td>\n",
       "    </tr>\n",
       "    <tr>\n",
       "      <th>4567</th>\n",
       "      <td>IDS International Government Services</td>\n",
       "      <td>Government Services</td>\n",
       "      <td>27.5</td>\n",
       "      <td>-682.0</td>\n",
       "    </tr>\n",
       "    <tr>\n",
       "      <th>4571</th>\n",
       "      <td>Netsertive</td>\n",
       "      <td>Advertising &amp; Marketing</td>\n",
       "      <td>56.5</td>\n",
       "      <td>-54.0</td>\n",
       "    </tr>\n",
       "    <tr>\n",
       "      <th>4583</th>\n",
       "      <td>Ctems</td>\n",
       "      <td>Manufacturing</td>\n",
       "      <td>11.7</td>\n",
       "      <td>-80.0</td>\n",
       "    </tr>\n",
       "    <tr>\n",
       "      <th>4617</th>\n",
       "      <td>TargetX.com</td>\n",
       "      <td>Advertising &amp; Marketing</td>\n",
       "      <td>6.0</td>\n",
       "      <td>-8.0</td>\n",
       "    </tr>\n",
       "    <tr>\n",
       "      <th>4656</th>\n",
       "      <td>Secure Medical</td>\n",
       "      <td>Health</td>\n",
       "      <td>13.3</td>\n",
       "      <td>-7.0</td>\n",
       "    </tr>\n",
       "    <tr>\n",
       "      <th>4727</th>\n",
       "      <td>Leigh Marcus | @properties</td>\n",
       "      <td>Real Estate</td>\n",
       "      <td>0.2</td>\n",
       "      <td>-3.0</td>\n",
       "    </tr>\n",
       "    <tr>\n",
       "      <th>4839</th>\n",
       "      <td>Gantom Lighting</td>\n",
       "      <td>Manufacturing</td>\n",
       "      <td>0.4</td>\n",
       "      <td>-2.0</td>\n",
       "    </tr>\n",
       "    <tr>\n",
       "      <th>4979</th>\n",
       "      <td>Atlas Oil Company</td>\n",
       "      <td>Energy</td>\n",
       "      <td>1095.6</td>\n",
       "      <td>-73.0</td>\n",
       "    </tr>\n",
       "    <tr>\n",
       "      <th>5001</th>\n",
       "      <td>Smart Energy Today</td>\n",
       "      <td>Energy</td>\n",
       "      <td>16.9</td>\n",
       "      <td>-27.0</td>\n",
       "    </tr>\n",
       "  </tbody>\n",
       "</table>\n",
       "</div>"
      ],
      "text/plain": [
       "                                       name                      industry  \\\n",
       "361                               AdFicient       Advertising & Marketing   \n",
       "525                       Quantico Tactical           Government Services   \n",
       "1076                     Prime Therapeutics                        Health   \n",
       "1159                            WealthForge            Financial Services   \n",
       "1163                       Catalyst Outdoor       Advertising & Marketing   \n",
       "1602                                 Taulia                      Software   \n",
       "1671                         IT Authorities                 IT Management   \n",
       "1732                                 Zentra                        Retail   \n",
       "1741                     Worth Clark Realty                   Real Estate   \n",
       "1833                         Perfect Snacks               Food & Beverage   \n",
       "1973               Synapse Business Systems                 IT Management   \n",
       "2026                            CloudSmartz                 IT Management   \n",
       "2054                         Benton Roofing                  Construction   \n",
       "2715                                   NCWC       Advertising & Marketing   \n",
       "2759           Touchstone Merchandise Group  Consumer Products & Services   \n",
       "2955                  Buzz Franchise Brands  Consumer Products & Services   \n",
       "3180                    Systems Integration                 IT Management   \n",
       "3533                              Metronome           Government Services   \n",
       "3541                    49er Communications            Telecommunications   \n",
       "3573            Enhanced Veterans Solutions           Government Services   \n",
       "3579                                Coranet            Telecommunications   \n",
       "3611                                      5                        Energy   \n",
       "3622                          FNB Merchants            Financial Services   \n",
       "3627                                   Zefr       Advertising & Marketing   \n",
       "3799                          Cuddle Clones  Consumer Products & Services   \n",
       "3992                               Adapture                   IT Services   \n",
       "4059                              AEC Group                   IT Services   \n",
       "4136         First American Payment Systems            Financial Services   \n",
       "4146                         Creditsafe USA  Business Products & Services   \n",
       "4150                     Blueberry Builders                  Construction   \n",
       "4153                               Centrify                      Software   \n",
       "4167                             CommerceIQ                      Software   \n",
       "4187                    TapClassifieds Auto       Advertising & Marketing   \n",
       "4258                      SBS CyberSecurity            Financial Services   \n",
       "4265                        GMF Steel Group                  Construction   \n",
       "4270                     Integrity Services  Business Products & Services   \n",
       "4290                                 JazzHR                      Software   \n",
       "4367               Republic Bank of Chicago            Financial Services   \n",
       "4409                                 Akorbi  Business Products & Services   \n",
       "4433                       Momentum Telecom            Telecommunications   \n",
       "4533             Right Height Manufacturing                 Manufacturing   \n",
       "4540                              Myriad360                 IT Management   \n",
       "4567  IDS International Government Services           Government Services   \n",
       "4571                             Netsertive       Advertising & Marketing   \n",
       "4583                                  Ctems                 Manufacturing   \n",
       "4617                            TargetX.com       Advertising & Marketing   \n",
       "4656                         Secure Medical                        Health   \n",
       "4727             Leigh Marcus | @properties                   Real Estate   \n",
       "4839                        Gantom Lighting                 Manufacturing   \n",
       "4979                      Atlas Oil Company                        Energy   \n",
       "5001                     Smart Energy Today                        Energy   \n",
       "\n",
       "      revenue_difference  staff_change  \n",
       "361                  3.8          -1.0  \n",
       "525                475.0         -43.0  \n",
       "1076             21385.5        -600.0  \n",
       "1159                13.3         -15.0  \n",
       "1163                13.6          -5.0  \n",
       "1602                39.9         -22.0  \n",
       "1671                 5.8         -10.0  \n",
       "1732                19.6          -6.0  \n",
       "1741                14.9          -2.0  \n",
       "1833                57.6         -16.0  \n",
       "1973                 0.3          -4.0  \n",
       "2026                10.6          -1.0  \n",
       "2054                19.1          -1.0  \n",
       "2715               193.1         -71.0  \n",
       "2759                39.6          -3.0  \n",
       "2955                12.5         -28.0  \n",
       "3180                21.0          -6.0  \n",
       "3533                15.0          -8.0  \n",
       "3541                 2.2          -2.0  \n",
       "3573                 6.0          -8.0  \n",
       "3579                79.6          -7.0  \n",
       "3611                 3.4          -3.0  \n",
       "3622                 6.1          -4.0  \n",
       "3627                60.5         -86.0  \n",
       "3799                 1.2          -1.0  \n",
       "3992                35.8          -2.0  \n",
       "4059                93.1          -4.0  \n",
       "4136               657.7        -243.0  \n",
       "4146                 8.4         -11.0  \n",
       "4150                 5.5          -8.0  \n",
       "4153               110.5        -127.0  \n",
       "4167                 6.6         -22.0  \n",
       "4187                 0.4          -5.0  \n",
       "4258                 6.9          -1.0  \n",
       "4265                 4.9          -4.0  \n",
       "4270                16.0        -150.0  \n",
       "4290                 3.5          -8.0  \n",
       "4367                97.3          -4.0  \n",
       "4409                34.3        -300.0  \n",
       "4433                93.3         -11.0  \n",
       "4533                 1.8          -3.0  \n",
       "4540               132.5          -3.0  \n",
       "4567                27.5        -682.0  \n",
       "4571                56.5         -54.0  \n",
       "4583                11.7         -80.0  \n",
       "4617                 6.0          -8.0  \n",
       "4656                13.3          -7.0  \n",
       "4727                 0.2          -3.0  \n",
       "4839                 0.4          -2.0  \n",
       "4979              1095.6         -73.0  \n",
       "5001                16.9         -27.0  "
      ]
     },
     "execution_count": 48,
     "metadata": {},
     "output_type": "execute_result"
    }
   ],
   "source": [
    "revenue_and_staff"
   ]
  },
  {
   "cell_type": "code",
   "execution_count": 49,
   "id": "404f6f9f",
   "metadata": {
    "execution": {
     "iopub.execute_input": "2025-06-13T08:15:30.895161Z",
     "iopub.status.busy": "2025-06-13T08:15:30.894944Z",
     "iopub.status.idle": "2025-06-13T08:15:31.069734Z",
     "shell.execute_reply": "2025-06-13T08:15:31.069058Z"
    },
    "papermill": {
     "duration": 0.193603,
     "end_time": "2025-06-13T08:15:31.070732",
     "exception": false,
     "start_time": "2025-06-13T08:15:30.877129",
     "status": "completed"
    },
    "tags": []
   },
   "outputs": [
    {
     "data": {
      "image/png": "[encoded data removed]",
      "text/plain": [
       "<Figure size 640x480 with 1 Axes>"
      ]
     },
     "metadata": {},
     "output_type": "display_data"
    }
   ],
   "source": [
    "plt.scatter(df['staff_change'], df['revenue_difference'])\n",
    "plt.xlabel('Change in Staff')\n",
    "plt.ylabel('Change in Revenue')\n",
    "plt.title('Relationship between Change in Staff and Change in Revenue')\n",
    "plt.show()"
   ]
  },
  {
   "cell_type": "markdown",
   "id": "024113d5",
   "metadata": {
    "papermill": {
     "duration": 0.018109,
     "end_time": "2025-06-13T08:15:31.108331",
     "exception": false,
     "start_time": "2025-06-13T08:15:31.090222",
     "status": "completed"
    },
    "tags": []
   },
   "source": [
    "#### There is no consistent relationship between changes in staff and revenue companies with similar staff changes showed both increases and decreases in revenue. A few companies managed to increase their revenue even after reducing staff, indicating improved efficiency, automation, or productivity gains.Most companies made small staff adjustments, clustering near the origin, but even within this cluster, revenue shifts widely, showing that staff size alone doesn’t determine revenue outcome. One company increased staff by around 120,000 with a noticeable revenue increase. Some firms significantly increased staff (up to ~50,000) but saw no major revenue gain, suggesting inefficiencies or delayed returns. A few companies experienced both staff cuts and revenue loss, possibly due to downsizing or poor market performance.\n",
    "\n",
    "\n"
   ]
  },
  {
   "cell_type": "code",
   "execution_count": 50,
   "id": "5fea2bd4",
   "metadata": {
    "execution": {
     "iopub.execute_input": "2025-06-13T08:15:31.145648Z",
     "iopub.status.busy": "2025-06-13T08:15:31.145429Z",
     "iopub.status.idle": "2025-06-13T08:15:31.626356Z",
     "shell.execute_reply": "2025-06-13T08:15:31.625569Z"
    },
    "papermill": {
     "duration": 0.501039,
     "end_time": "2025-06-13T08:15:31.627495",
     "exception": false,
     "start_time": "2025-06-13T08:15:31.126456",
     "status": "completed"
    },
    "tags": []
   },
   "outputs": [
    {
     "data": {
      "image/png": "[encoded data removed]",
      "text/plain": [
       "<Figure size 1200x600 with 1 Axes>"
      ]
     },
     "metadata": {},
     "output_type": "display_data"
    }
   ],
   "source": [
    "plt.figure(figsize=(12, 6))\n",
    "\n",
    "sns.scatterplot(data=revenue_and_staff, x='revenue_difference', y='staff_change', hue='industry', s=100, alpha=0.7)\n",
    "\n",
    "plt.title('Companies that increased revenue while reducing staff')\n",
    "plt.xlabel('Revenue difference')\n",
    "plt.ylabel('Satff_change')\n",
    "\n",
    "plt.show()\n"
   ]
  },
  {
   "cell_type": "markdown",
   "id": "e6dd6e41",
   "metadata": {
    "papermill": {
     "duration": 0.019546,
     "end_time": "2025-06-13T08:15:31.667743",
     "exception": false,
     "start_time": "2025-06-13T08:15:31.648197",
     "status": "completed"
    },
    "tags": []
   },
   "source": [
    "#### There are several companies that have successfully increased revenue while reducing staff, showing a notable trend across various industries. Industries such as Advertising & Marketing, Financial Services, Software, Construction, and Telecommunications are among the most represented in this group. Some companies achieved substantial revenue gains, with differences exceeding 1,000 million, despite reducing staff by hundreds of employees. The most extreme case shows a company from Government Services reducing staff by over 680 people while still reporting revenue growth.\n",
    "\n",
    "#### This indicates that some firms have managed to optimize operations, automate processes, or shift to higher-margin strategies to maintain or improve profitability. It reflects how modern businesses can become more efficient without necessarily expanding their workforce. However, while such outcomes may look impressive from a revenue perspective, they may come with long-term trade-offs in terms of workload, employee morale, or customer service. Overall, this chart emphasizes that strategic workforce management, coupled with innovation, can lead to growth even during downsizing."
   ]
  },
  {
   "cell_type": "markdown",
   "id": "9ebf39ff",
   "metadata": {
    "papermill": {
     "duration": 0.018037,
     "end_time": "2025-06-13T08:15:31.704255",
     "exception": false,
     "start_time": "2025-06-13T08:15:31.686218",
     "status": "completed"
    },
    "tags": []
   },
   "source": [
    "###  Top - 1000  Winner state"
   ]
  },
  {
   "cell_type": "code",
   "execution_count": 51,
   "id": "e4f3567d",
   "metadata": {
    "execution": {
     "iopub.execute_input": "2025-06-13T08:15:31.742011Z",
     "iopub.status.busy": "2025-06-13T08:15:31.741576Z",
     "iopub.status.idle": "2025-06-13T08:15:31.747903Z",
     "shell.execute_reply": "2025-06-13T08:15:31.747375Z"
    },
    "papermill": {
     "duration": 0.026392,
     "end_time": "2025-06-13T08:15:31.748820",
     "exception": false,
     "start_time": "2025-06-13T08:15:31.722428",
     "status": "completed"
    },
    "tags": []
   },
   "outputs": [
    {
     "data": {
      "text/plain": [
       "state\n",
       "CA    712\n",
       "TX    467\n",
       "FL    385\n",
       "NY    300\n",
       "VA    288\n",
       "IL    241\n",
       "GA    219\n",
       "PA    172\n",
       "OH    160\n",
       "CO    156\n",
       "NC    135\n",
       "MA    133\n",
       "MD    130\n",
       "NJ    128\n",
       "UT    123\n",
       "AZ    104\n",
       "WA    101\n",
       "TN     84\n",
       "MI     82\n",
       "MN     81\n",
       "MO     75\n",
       "AL     64\n",
       "IN     63\n",
       "OR     59\n",
       "SC     56\n",
       "WI     49\n",
       "DC     43\n",
       "CT     37\n",
       "LA     37\n",
       "KY     34\n",
       "NV     33\n",
       "IA     31\n",
       "OK     28\n",
       "KS     27\n",
       "NE     27\n",
       "ID     21\n",
       "NH     20\n",
       "SD     14\n",
       "MT     11\n",
       "DE     11\n",
       "ME     11\n",
       "AR     10\n",
       "ND     10\n",
       "NM      7\n",
       "WV      7\n",
       "WY      6\n",
       "VT      5\n",
       "RI      5\n",
       "MS      4\n",
       "HI      4\n",
       "PR      2\n",
       "Name: count, dtype: int64"
      ]
     },
     "execution_count": 51,
     "metadata": {},
     "output_type": "execute_result"
    }
   ],
   "source": [
    "df['state'].value_counts().head(1000)"
   ]
  },
  {
   "cell_type": "code",
   "execution_count": 52,
   "id": "21577c6e",
   "metadata": {
    "execution": {
     "iopub.execute_input": "2025-06-13T08:15:31.788183Z",
     "iopub.status.busy": "2025-06-13T08:15:31.787980Z",
     "iopub.status.idle": "2025-06-13T08:15:31.794075Z",
     "shell.execute_reply": "2025-06-13T08:15:31.793337Z"
    },
    "papermill": {
     "duration": 0.02735,
     "end_time": "2025-06-13T08:15:31.795127",
     "exception": false,
     "start_time": "2025-06-13T08:15:31.767777",
     "status": "completed"
    },
    "tags": []
   },
   "outputs": [
    {
     "name": "stdout",
     "output_type": "stream",
     "text": [
      "The most frequent state among the top 1000 companies based on revenue is: CA\n"
     ]
    }
   ],
   "source": [
    "df_sorted = df.sort_values(by='revenue', ascending=False)\n",
    "top_1000_companies = df_sorted.head(1000)\n",
    "most_frequent_state = top_1000_companies['state'].mode()[0]\n",
    "print(\"The most frequent state among the top 1000 companies based on revenue is:\", most_frequent_state)"
   ]
  },
  {
   "cell_type": "markdown",
   "id": "3e3527e4",
   "metadata": {
    "papermill": {
     "duration": 0.019311,
     "end_time": "2025-06-13T08:15:31.834326",
     "exception": false,
     "start_time": "2025-06-13T08:15:31.815015",
     "status": "completed"
    },
    "tags": []
   },
   "source": [
    "### 8.Do we have any company which was founded last year and Ranked under Top 100"
   ]
  },
  {
   "cell_type": "code",
   "execution_count": 53,
   "id": "80d47e1b",
   "metadata": {
    "execution": {
     "iopub.execute_input": "2025-06-13T08:15:31.873785Z",
     "iopub.status.busy": "2025-06-13T08:15:31.873342Z",
     "iopub.status.idle": "2025-06-13T08:15:31.877751Z",
     "shell.execute_reply": "2025-06-13T08:15:31.877201Z"
    },
    "papermill": {
     "duration": 0.025474,
     "end_time": "2025-06-13T08:15:31.879004",
     "exception": false,
     "start_time": "2025-06-13T08:15:31.853530",
     "status": "completed"
    },
    "tags": []
   },
   "outputs": [],
   "source": [
    "filtered_companies = df[(df['founded'] >= 2015) & (df['rank'] <= 100)]"
   ]
  },
  {
   "cell_type": "code",
   "execution_count": 54,
   "id": "64a973b0",
   "metadata": {
    "execution": {
     "iopub.execute_input": "2025-06-13T08:15:31.918159Z",
     "iopub.status.busy": "2025-06-13T08:15:31.917538Z",
     "iopub.status.idle": "2025-06-13T08:15:31.923614Z",
     "shell.execute_reply": "2025-06-13T08:15:31.923079Z"
    },
    "papermill": {
     "duration": 0.02661,
     "end_time": "2025-06-13T08:15:31.924673",
     "exception": false,
     "start_time": "2025-06-13T08:15:31.898063",
     "status": "completed"
    },
    "tags": []
   },
   "outputs": [
    {
     "data": {
      "text/plain": [
       "rank                  24\n",
       "profile               24\n",
       "name                  24\n",
       "url                   24\n",
       "state                 24\n",
       "revenue               24\n",
       "growth_%              24\n",
       "industry              24\n",
       "workers               24\n",
       "previous_workers      24\n",
       "founded               24\n",
       "yrs_on_list           24\n",
       "metro                 24\n",
       "city                  24\n",
       "New_Hire              24\n",
       "staff_change          24\n",
       "revenue_difference    23\n",
       "dtype: int64"
      ]
     },
     "execution_count": 54,
     "metadata": {},
     "output_type": "execute_result"
    }
   ],
   "source": [
    "filtered_companies.count()\n"
   ]
  },
  {
   "cell_type": "code",
   "execution_count": 55,
   "id": "118d6e23",
   "metadata": {
    "execution": {
     "iopub.execute_input": "2025-06-13T08:15:31.965102Z",
     "iopub.status.busy": "2025-06-13T08:15:31.964845Z",
     "iopub.status.idle": "2025-06-13T08:15:31.970175Z",
     "shell.execute_reply": "2025-06-13T08:15:31.969637Z"
    },
    "papermill": {
     "duration": 0.026487,
     "end_time": "2025-06-13T08:15:31.971140",
     "exception": false,
     "start_time": "2025-06-13T08:15:31.944653",
     "status": "completed"
    },
    "tags": []
   },
   "outputs": [
    {
     "data": {
      "text/plain": [
       "industry\n",
       "Consumer Products & Services    4\n",
       "Logistics & Transportation      3\n",
       "Advertising & Marketing         2\n",
       "Health                          2\n",
       "Financial Services              2\n",
       "Construction                    2\n",
       "Business Products & Services    2\n",
       "Software                        2\n",
       "Food & Beverage                 1\n",
       "Telecommunications              1\n",
       "Energy                          1\n",
       "Security                        1\n",
       "IT System Development           1\n",
       "Name: count, dtype: int64"
      ]
     },
     "execution_count": 55,
     "metadata": {},
     "output_type": "execute_result"
    }
   ],
   "source": [
    "filtered_companies['industry'].value_counts()"
   ]
  },
  {
   "cell_type": "code",
   "execution_count": 56,
   "id": "5c1d9528",
   "metadata": {
    "execution": {
     "iopub.execute_input": "2025-06-13T08:15:32.011708Z",
     "iopub.status.busy": "2025-06-13T08:15:32.011515Z",
     "iopub.status.idle": "2025-06-13T08:15:32.015212Z",
     "shell.execute_reply": "2025-06-13T08:15:32.014707Z"
    },
    "papermill": {
     "duration": 0.024293,
     "end_time": "2025-06-13T08:15:32.016310",
     "exception": false,
     "start_time": "2025-06-13T08:15:31.992017",
     "status": "completed"
    },
    "tags": []
   },
   "outputs": [],
   "source": [
    "filtered_companies_count = filtered_companies['industry'].value_counts()"
   ]
  },
  {
   "cell_type": "code",
   "execution_count": 57,
   "id": "0985215f",
   "metadata": {
    "execution": {
     "iopub.execute_input": "2025-06-13T08:15:32.055276Z",
     "iopub.status.busy": "2025-06-13T08:15:32.055085Z",
     "iopub.status.idle": "2025-06-13T08:15:32.349056Z",
     "shell.execute_reply": "2025-06-13T08:15:32.348270Z"
    },
    "papermill": {
     "duration": 0.315146,
     "end_time": "2025-06-13T08:15:32.350427",
     "exception": false,
     "start_time": "2025-06-13T08:15:32.035281",
     "status": "completed"
    },
    "tags": []
   },
   "outputs": [
    {
     "data": {
      "image/png": "[encoded data removed]",
      "text/plain": [
       "<Figure size 1000x600 with 1 Axes>"
      ]
     },
     "metadata": {},
     "output_type": "display_data"
    }
   ],
   "source": [
    "plt.figure(figsize=(10, 6))\n",
    "filtered_companies_count.plot(kind='bar', color='skyblue')\n",
    "\n",
    "# Add labels and title\n",
    "plt.title('Number of Companies per Industry (Founded Last Year & Ranked Top 100)')\n",
    "plt.xlabel('Industry')\n",
    "plt.ylabel('Number of Companies')\n",
    "\n",
    "\n",
    "# Show plot\n",
    "plt.tight_layout()\n",
    "plt.show()"
   ]
  },
  {
   "cell_type": "markdown",
   "id": "af2e11ab",
   "metadata": {
    "papermill": {
     "duration": 0.019777,
     "end_time": "2025-06-13T08:15:32.393143",
     "exception": false,
     "start_time": "2025-06-13T08:15:32.373366",
     "status": "completed"
    },
    "tags": []
   },
   "source": [
    "#### There are 24 companies founded last year and ranked in the Top 100 are from Consumer Products & Services and Logistics & Transportation, showing strong demand in these area. Industries like Health, Finance, and Software also saw multiple fast-growing new entrants. This reflects a diverse growth trend across both consumer-focused and service-based sectors. Even niche industries like Energy and Security had emerging players, showing wide innovation.\n"
   ]
  },
  {
   "cell_type": "markdown",
   "id": "9e9baeb9",
   "metadata": {
    "papermill": {
     "duration": 0.019248,
     "end_time": "2025-06-13T08:15:32.432447",
     "exception": false,
     "start_time": "2025-06-13T08:15:32.413199",
     "status": "completed"
    },
    "tags": []
   },
   "source": [
    "### Based on the exploratory data analysis (EDA) performed on the companies dataset, the following conclusions can be drawn:\n",
    "\n",
    "1. The dataset contains information on over 5000 companies from various industries, with data on their revenue, number of workers, and other relevant information.\n",
    "\n",
    "2. The average revenue for companies in the dataset is around $3.5 billion, with a wide range of values from less than 10 million to over 300 billion.\n",
    "\n",
    "3. The technology industry has the highest number of companies in the dataset, followed by financial services and healthcare.\n",
    "4. There is a positive correlation between revenue and number of workers, but there are also many outliers where companies have high revenue with relatively few workers. Some companies in the dataset have been able to increase their revenue while reducing staff, but these cases are relatively rare.\n",
    "5. There is a wide range of revenue growth rates among the companies in the dataset, with some companies experiencing very high growth rates while others are experiencing negative growth.\n",
    "6. Among all the Companies the State 'CA' appear most frequently in all companies.\n",
    "7. There are 24 Companies that appear on the Top 100 with less than a year after Founded.\n",
    "\n",
    "Overall, the dataset provides a useful starting point for further analysis and investigation into the factors that contribute to a company's success or failure.\n",
    " "
   ]
  }
 ],
 "metadata": {
  "kaggle": {
   "accelerator": "nvidiaTeslaT4",
   "dataSources": [
    {
     "datasetId": 2194578,
     "sourceId": 3666209,
     "sourceType": "datasetVersion"
    }
   ],
   "dockerImageVersionId": 31040,
   "isGpuEnabled": true,
   "isInternetEnabled": true,
   "language": "python",
   "sourceType": "notebook"
  },
  "kernelspec": {
   "display_name": "Python 3",
   "language": "python",
   "name": "python3"
  },
  "language_info": {
   "codemirror_mode": {
    "name": "ipython",
    "version": 3
   },
   "file_extension": ".py",
   "mimetype": "text/x-python",
   "name": "python",
   "nbconvert_exporter": "python",
   "pygments_lexer": "ipython3",
   "version": "3.11.11"
  },
  "papermill": {
   "default_parameters": {},
   "duration": 21.993287,
   "end_time": "2025-06-13T08:15:33.070286",
   "environment_variables": {},
   "exception": null,
   "input_path": "__notebook__.ipynb",
   "output_path": "__notebook__.ipynb",
   "parameters": {},
   "start_time": "2025-06-13T08:15:11.076999",
   "version": "2.6.0"
  }
 },
 "nbformat": 4,
 "nbformat_minor": 5
}
